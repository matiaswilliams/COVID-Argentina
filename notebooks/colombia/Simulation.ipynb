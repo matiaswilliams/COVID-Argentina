{
 "cells": [
  {
   "cell_type": "markdown",
   "metadata": {},
   "source": [
    "# Simulation notebook - Colombia data\n",
    "\n",
    "This notebook generates a people dataframe with 500k+ people from the manzanas data, and runs the HMM-based simualtion with fixed transitions over them."
   ]
  },
  {
   "cell_type": "code",
   "execution_count": 216,
   "metadata": {},
   "outputs": [
    {
     "name": "stdout",
     "output_type": "stream",
     "text": [
      "The autoreload extension is already loaded. To reload it, use:\n",
      "  %reload_ext autoreload\n"
     ]
    }
   ],
   "source": [
    "import sys\n",
    "import os\n",
    "sys.path.append(\"../..\")\n",
    "import model \n",
    "import geopandas as gpd\n",
    "import pandas as pd\n",
    "import numpy as np\n",
    "import scipy\n",
    "from model.sim import location, state, contacts\n",
    "from IPython.display import display\n",
    "from timeit import default_timer as timer\n",
    "import swifter\n",
    "from tqdm import tqdm_notebook as tqdm\n",
    "import dask.dataframe as dd\n",
    "from dask.multiprocessing import get\n",
    "\n",
    "%load_ext autoreload\n",
    "%autoreload 2"
   ]
  },
  {
   "cell_type": "code",
   "execution_count": 113,
   "metadata": {},
   "outputs": [],
   "source": [
    "crs = {'epsg:3857'}\n",
    "shp_path = '../../../shp' # Change to your local shape file directory\n",
    "# os.listdir(shp_path)"
   ]
  },
  {
   "cell_type": "code",
   "execution_count": 223,
   "metadata": {},
   "outputs": [],
   "source": [
    "mnz_data = gpd.read_file(os.path.join(shp_path,\"Censo_personas_manzanas_2018.shp\"))\n",
    "# list(mnz_data.columns)"
   ]
  },
  {
   "cell_type": "code",
   "execution_count": 117,
   "metadata": {},
   "outputs": [
    {
     "name": "stdout",
     "output_type": "stream",
     "text": [
      "Number of manzanas: 5964\n",
      "Number of people separated in manzanas: 534786\n"
     ]
    }
   ],
   "source": [
    "print(\"Number of manzanas:\", len(manzanas))\n",
    "print(\"Number of people separated in manzanas:\", manzanas['SEXO_TOTAL'].sum())"
   ]
  },
  {
   "cell_type": "code",
   "execution_count": 118,
   "metadata": {},
   "outputs": [],
   "source": [
    "# utils functions  \n",
    "\n",
    "def calculate_contacts(polygon, points, date):\n",
    "    _people = points[points.geometry.centroid.within(polygon.geometry.buffer(100))]\n",
    "    data = {\n",
    "        'date': np.repeat(date, len(_people)),\n",
    "        'patient1': np.repeat(polygon['patient'], len(_people)),\n",
    "        'patient2': list(_people['patient'])\n",
    "    }\n",
    "    \n",
    "    exposure_df = pd.DataFrame(data=data, columns = [\"date\",\"patient1\",\"patient2\"])\n",
    "    return exposure_df\n",
    "\n",
    "def extrapolation(df):\n",
    "    transformation_table = []\n",
    "    for i, value in df.sort_values(\"patient\").iterrows():\n",
    "        original_index = value['patient']\n",
    "        new_index = 0\n",
    "        step = value['SEXO_TOTAL']\n",
    "        transformation_table[original_index] = [np.arange(new_index,new_index+step-1)]\n",
    "        new_index = new_index + step\n",
    "    return transformation_table"
   ]
  },
  {
   "cell_type": "code",
   "execution_count": 191,
   "metadata": {},
   "outputs": [],
   "source": [
    "def instantiate_sim(neigh_info_path, people_df, T=100, reindex = True): \n",
    "    print(\"type(people_df), len(people_df)\",type(people_df), len(people_df))\n",
    "    sim = {\"map\":gpd.read_file(neigh_info_path)}\n",
    "    pop_per_neigh = sim[\"map\"]['SEXO_TOTAL']\n",
    "    N0 = len(people_df)\n",
    "    \n",
    "    if reindex:\n",
    "        people_df['patient'] = np.arange(len(people_df))\n",
    "    #N0 = people.SEXO_TOTAL.sum()\n",
    "    #people = people.reindex(people.index.repeat(people.SEXO_TOTAL))\n",
    "             \n",
    "    lat = people_df.position.apply(lambda point: point.y)\n",
    "    lng = people_df.position.apply(lambda point: point.x)\n",
    "\n",
    "#     people_df['calculated_centroid'] = people_df.centroid\n",
    "\n",
    "    sim[\"location\"] = pd.DataFrame(\n",
    "        {\n",
    "        \"patient\": np.repeat(np.arange(N0), T),\n",
    "        \"date\": np.tile(np.arange(T), N0),\n",
    "        \"latitude\": np.repeat(lat, T),\n",
    "        \"longitude\": np.repeat(lng, T),\n",
    "        }\n",
    "    )\n",
    "\n",
    "#     people_points = people_df.centroid\n",
    "    distance_cutoff = 0.012\n",
    "    sim[\"patients\"] = pd.DataFrame({\"patient\": np.unique(sim[\"location\"][\"patient\"])})\n",
    "    sim[\"dates\"] = pd.DataFrame({\"date\": np.unique(sim[\"location\"][\"date\"])})\n",
    "    \n",
    "    return sim\n",
    "\n",
    "# manz_info_path = shp_path + \"/Censo_personas_manzanas_2018.shp\"  \n",
    "# manz = gpd.read_file(manz_info_path, index=None) \n",
    "# manz_proj = people.to_crs({\"init\": \"EPSG:3857\"})\n",
    "# sim = instantiate_sim(manz_info_path, manz_proj)"
   ]
  },
  {
   "cell_type": "code",
   "execution_count": 187,
   "metadata": {},
   "outputs": [
    {
     "data": {
      "text/plain": [
       "0        -8.322742e+06\n",
       "1        -8.322742e+06\n",
       "2        -8.322742e+06\n",
       "3        -8.322742e+06\n",
       "4        -8.322742e+06\n",
       "              ...     \n",
       "534781   -8.325669e+06\n",
       "534782   -8.325669e+06\n",
       "534783   -8.325669e+06\n",
       "534784   -8.325669e+06\n",
       "534785   -8.325669e+06\n",
       "Name: position, Length: 534786, dtype: float64"
      ]
     },
     "execution_count": 187,
     "metadata": {},
     "output_type": "execute_result"
    }
   ],
   "source": [
    "large_people_df.position.apply(lambda point: point.x)"
   ]
  },
  {
   "cell_type": "markdown",
   "metadata": {},
   "source": [
    "# Function to calculate daily contacts\n",
    "Unused"
   ]
  },
  {
   "cell_type": "code",
   "execution_count": null,
   "metadata": {},
   "outputs": [],
   "source": [
    "def calculate_daily_contacts(people_proj, sim, load_from_csv=True):\n",
    "    \n",
    "    if load_from_csv:\n",
    "        return pd.read_csv(\"improved_daily_contacts.csv\")\n",
    "    \n",
    "    start = timer()\n",
    "\n",
    "    # calculate daily contacts for day 1 as they will be repeated for the other days\n",
    "    date = sim[\"dates\"][\"date\"][0]\n",
    "    daily_contacts = people_proj.apply(calculate_contacts, axis=1, args=[people_proj, date])\n",
    "\n",
    "    original_daily_contacts = pd.concat(list(daily_contacts), sort=False)\n",
    "    original_daily_contacts.reset_index(drop=True, inplace=True)\n",
    "\n",
    "    # calculate the table for all the dates\n",
    "    improved_daily_contacts = original_daily_contacts.copy()\n",
    "    for date in sim[\"dates\"][\"date\"]:\n",
    "        if len(original_daily_contacts[original_daily_contacts['date'] == date]) < 1:\n",
    "            new_df = original_daily_contacts.copy()\n",
    "            new_df['date'] = date\n",
    "            improved_daily_contacts = improved_daily_contacts.append(new_df)\n",
    "\n",
    "    improved_daily_contacts.reset_index(drop=True, inplace=True)\n",
    "\n",
    "    end = timer()\n",
    "    print(\"Compute time:\",end-start)\n",
    "    \n",
    "    return improved_daily_contacts\n",
    "\n",
    "improved_daily_contacts = calculate_daily_contacts(people_proj, sim)\n",
    "sim[\"contacts\"] = improved_daily_contacts\n",
    "sim[\"N_c\"] = contacts.calculate_Nc(sim)\n",
    "print(\"Average daily contacts: {}\".format(sim[\"N_c\"]))"
   ]
  },
  {
   "cell_type": "code",
   "execution_count": 131,
   "metadata": {},
   "outputs": [
    {
     "name": "stdout",
     "output_type": "stream",
     "text": [
      "999\n"
     ]
    }
   ],
   "source": [
    "print(improved_daily_contacts[\"date\"].max())"
   ]
  },
  {
   "cell_type": "code",
   "execution_count": null,
   "metadata": {},
   "outputs": [],
   "source": [
    "save=False\n",
    "if save:   \n",
    "    improved_daily_contacts.to_csv(\"improved_daily_contacts.csv\")"
   ]
  },
  {
   "cell_type": "code",
   "execution_count": 211,
   "metadata": {},
   "outputs": [],
   "source": [
    "# Run sim\n",
    "def run_sim(sim, N_infected=15, infected=None):\n",
    "    sim[\"states\"], sim[\"tests\"] = state.simulate_states(sim, N_infected=N_infected, infected=infected)\n",
    "    sim[\"hospital\"] = state.get_first_occurrence(sim[\"states\"], 6)\n",
    "    sim[\"deaths\"] = state.get_first_occurrence(sim[\"states\"], 8)\n",
    "    return sim\n",
    "    \n",
    "# run_sim(sim)"
   ]
  },
  {
   "cell_type": "code",
   "execution_count": 15,
   "metadata": {},
   "outputs": [],
   "source": [
    "# gdf = gpd.GeoDataFrame(\n",
    "#     df,\n",
    "#     geometry=gpd.points_from_xy(\n",
    "#         df[\"longitude\"],\n",
    "#         df[\"latitude\"],\n",
    "#     ),\n",
    "#     crs={\"init\":\"EPSG:4326\"},\n",
    "# )\n",
    "\n",
    "# # 10 records\n",
    "# filtered_df\n",
    "\n",
    "# filtered_gdf = gpd.GeoDataFrame(\n",
    "#     filtered_df, \n",
    "#     geometry=gpd.points_from_xy(\n",
    "#         filtered_df[\"longitude\"],\n",
    "#         filtered_df[\"latitude\"],\n",
    "#     ),\n",
    "#     crs={\"init\":\"EPSG:4326\"},\n",
    "# )\n",
    "\n",
    "# # EPSG:3857 converts it to meters, correct?\n",
    "\n",
    "# gdf_proj = gdf.to_crs({\"init\": \"EPSG:3857\"})\n",
    "# filtered_gdf_proj = filtered_gdf.to_crs({\"init\": \"EPSG:3857\"})\n",
    "\n",
    "# # so 100 miles would be 160934 meters\n",
    "\n",
    "# x = filtered_gdf_proj.buffer(100).unary_union\n",
    "\n",
    "# neighbours = gdf_proj[\"geometry\"].intersection(x)"
   ]
  },
  {
   "cell_type": "markdown",
   "metadata": {},
   "source": [
    "# Simulation with 500k+ people "
   ]
  },
  {
   "cell_type": "code",
   "execution_count": null,
   "metadata": {
    "scrolled": true
   },
   "outputs": [
    {
     "name": "stderr",
     "output_type": "stream",
     "text": [
      "/home/camilo/.local/lib/python3.6/site-packages/ipykernel_launcher.py:13: TqdmDeprecationWarning: This function will be removed in tqdm==5.0.0\n",
      "Please use `tqdm.notebook.tqdm` instead of `tqdm.tqdm_notebook`\n",
      "  del sys.path[0]\n"
     ]
    },
    {
     "data": {
      "application/vnd.jupyter.widget-view+json": {
       "model_id": "b33f02ad31884125b39f70f08e0fc2b3",
       "version_major": 2,
       "version_minor": 0
      },
      "text/plain": [
       "HBox(children=(FloatProgress(value=1.0, bar_style='info', max=1.0), HTML(value='')))"
      ]
     },
     "metadata": {},
     "output_type": "display_data"
    }
   ],
   "source": [
    "# Build people_full dataframe containing census data, infected data + estimated people from neighborhood data\n",
    "\n",
    "from tqdm import tqdm_notebook as tqdm\n",
    "\n",
    "def create_people_df_from_mnz_data(mnz_data, create_contacts=True):\n",
    "#     people_df = dummy_row\n",
    "#     people_df.patient = [0]\n",
    "\n",
    "    people_df = pd.DataFrame()\n",
    "    contacts_df_list = []\n",
    "    i = 0\n",
    "    first_pass = True\n",
    "    for idx, row in tqdm(mnz_data.iterrows()):\n",
    "        n_ppl_in_mnz = row[\"SEXO_TOTAL\"]\n",
    "        if not n_ppl_in_mnz:\n",
    "            continue\n",
    "        \n",
    "#         print(\"row.geometry.centroid\",row.geometry.centroid)\n",
    "#         dummy_row.geometry = row.geometry\n",
    "        person_row = pd.DataFrame({\"patient\": [0], \"position\": [row.geometry.centroid]})\n",
    "        \n",
    "#         dummy_row[\"calculated_centroid\"] = row.geometry.centroid\n",
    "#         print(dummy_row.columns)\n",
    "        ppl_in_mnz = pd.concat([person_row]*n_ppl_in_mnz)\n",
    "        ids = np.arange(i, i+n_ppl_in_mnz)\n",
    "        ppl_in_mnz.patient = ids\n",
    "        i+=n_ppl_in_mnz\n",
    "        if first_pass:\n",
    "            people_df = ppl_in_mnz\n",
    "            first_pass = False\n",
    "        else:\n",
    "            people_df = people_df.append(ppl_in_mnz, ignore_index=True)\n",
    "            \n",
    "        \n",
    "        if create_contacts:\n",
    "            for date in range(90):\n",
    "                for id_ in ids:\n",
    "                    data = {\n",
    "                            'date': np.repeat(date, n_ppl_in_mnz),\n",
    "                            'patient1': np.repeat(id_, n_ppl_in_mnz),\n",
    "                            'patient2': ids\n",
    "                        }\n",
    "                    contacts_df_list.append(pd.DataFrame(data=data, columns = [\"date\", \"patient1\", \"patient2\"]))\n",
    "    \n",
    "    contacts_df = pd.concat(contacts_df_list, sort=False)\n",
    "    contacts_df.reset_index(drop=True, inplace=True)\n",
    "    \n",
    "    print(\"Final shape of people_df:\",people_df.shape)\n",
    "    return people_df, contacts_df\n",
    "\n",
    "sim[\"map\"][\"calculated_centroid\"] = sim[\"map\"].centroid\n",
    "large_people_df, large_contacts_df = create_people_df_from_mnz_data(mnz_data)"
   ]
  },
  {
   "cell_type": "code",
   "execution_count": 169,
   "metadata": {},
   "outputs": [],
   "source": [
    "large_people_df.to_csv(\"people_df_from_manzanas.csv\")\n",
    "contacts_df.to_csv(\"contacts_df_from_manzanas.csv\")"
   ]
  },
  {
   "cell_type": "code",
   "execution_count": 154,
   "metadata": {},
   "outputs": [
    {
     "name": "stderr",
     "output_type": "stream",
     "text": [
      "/home/camilo/.local/lib/python3.6/site-packages/ipykernel_launcher.py:4: TqdmDeprecationWarning: This function will be removed in tqdm==5.0.0\n",
      "Please use `tqdm.notebook.tqdm` instead of `tqdm.tqdm_notebook`\n",
      "  after removing the cwd from sys.path.\n"
     ]
    },
    {
     "data": {
      "application/vnd.jupyter.widget-view+json": {
       "model_id": "7b0d1357b7dc4612bb6b8e0cc56293e0",
       "version_major": 2,
       "version_minor": 0
      },
      "text/plain": [
       "HBox(children=(FloatProgress(value=1.0, bar_style='info', max=1.0), HTML(value='')))"
      ]
     },
     "metadata": {},
     "output_type": "display_data"
    },
    {
     "name": "stdout",
     "output_type": "stream",
     "text": [
      "\n"
     ]
    }
   ],
   "source": [
    "def get_mnz2ids(mnz_data):\n",
    "    i = 0\n",
    "    mnz2ids = {}\n",
    "    for idx, row in tqdm(mnz_data.iterrows()):\n",
    "        n_ppl_in_mnz = row[\"SEXO_TOTAL\"]\n",
    "        mnz2ids[idx] =  np.arange(i, i+n_ppl_in_mnz)\n",
    "        i += n_ppl_in_mnz\n",
    "        \n",
    "    return mnz2ids\n",
    "\n",
    "mnz2ids = get_mnz2ids(mnz_data)"
   ]
  },
  {
   "cell_type": "code",
   "execution_count": 151,
   "metadata": {},
   "outputs": [
    {
     "name": "stdout",
     "output_type": "stream",
     "text": [
      "Shape of contacts df (should be people_df*90*avg_n_contacts) (534786, 3)\n"
     ]
    },
    {
     "data": {
      "text/plain": [
       "date        89\n",
       "patient1    15\n",
       "patient2     3\n",
       "Name: 3, dtype: int64"
      ]
     },
     "execution_count": 151,
     "metadata": {},
     "output_type": "execute_result"
    }
   ],
   "source": [
    "print(\"Shape of contacts df (should be people_df*90*avg_n_contacts)\", contacts_df.shape)\n",
    "contacts_df.iloc[3]"
   ]
  },
  {
   "cell_type": "markdown",
   "metadata": {},
   "source": [
    "# Extrapolate contacts (DEPRECATED)"
   ]
  },
  {
   "cell_type": "code",
   "execution_count": 145,
   "metadata": {},
   "outputs": [],
   "source": [
    "from shapely.ops import nearest_points\n",
    "\n",
    "# def nearest(row, geom_union, df1, df2, geom1_col='geometry', geom2_col='geometry', src_column=None):\n",
    "#     \"\"\"Find the nearest point and return the corresponding value from specified column.\"\"\"\n",
    "#     # Find the geometry that is closest\n",
    "#     nearest = df2[geom2_col] == nearest_points(row[geom1_col], geom_union)[1]\n",
    "#     # Get the corresponding value from df2 (matching is based on the geometry)\n",
    "#     value = df2[nearest][src_column].get_values()[0]\n",
    "#     return value\n",
    "\n",
    "def nearest(point, people_df):\n",
    "    people_locs = people_df.geometry.centroid.unary_union\n",
    "    \n",
    "#     print(\"Trying to find nearest point to %s\" % point)\n",
    "#     print(\"Candidates are:\", people_locs[:5], \"and more (%d total)\" % len(people_locs)) # \"with ids:\", people_df[\"patient\"][:5]\n",
    "    \n",
    "    # find the nearest person for which we have data\n",
    "#     print(\"people_df.geometry.centroid\", people_df.geometry.centroid)\n",
    "#     print(\"nearest_points(point, people_locs)\", nearest_points(point, people_locs))\n",
    "    nearest = people_df.geometry.centroid == nearest_points(point, people_locs)[1]\n",
    "#     print(nearest)\n",
    "    \n",
    "    return people_df[nearest]\n",
    "\n",
    "def calculate_contacts(polygon, points, date):\n",
    "    _people = points[points.geometry.centroid.within(polygon.geometry.buffer(100))]\n",
    "    data = {\n",
    "        'date': np.repeat(date, len(_people)),\n",
    "        'patient1': np.repeat(polygon['patient'], len(_people)),\n",
    "        'patient2': list(_people['patient'])\n",
    "    }\n",
    "    \n",
    "    exposure_df = pd.DataFrame(data=data, columns = [\"date\", \"patient1\", \"patient2\"])\n",
    "    return exposure_df\n",
    "\n",
    "def contacts_from_closest_person(row, people, contacts):\n",
    "    print(\"\\nGetting contacts for person\", row[\"patient\"])\n",
    "    nearest_person = nearest(row.calculated_centroid, people)\n",
    "    contact_df = contacts[contacts['patient1']==nearest_person[\"patient\"].iloc[0]]\n",
    "    contact_df.patient1 = row[\"patient\"]\n",
    "#     print(contact_df)\n",
    "    print(\"Found nearest person. ID: %s. Centroid: %s. Barrio: %s. Contacts: %d\" % (nearest_person[\"patient\"], nearest_person.geometry.centroid,\n",
    "                                                                                   nearest_person.BARRIO, len(contact_df))) \n",
    "    \n",
    "    return contact_df\n",
    "\n",
    "def contacts_from_neigh(row, people, contacts):\n",
    "    \n",
    "    contacts_for_this_id = neigh2contacts[row[\"\"]]\n",
    "    return contacts\n",
    "\n",
    "def dummy_contacts(row, people, contacts):\n",
    "    contact_df = contacts.iloc[:30]\n",
    "    contact_df.patient1 = row[\"patient\"]\n",
    "    data = {\n",
    "        'date': contact_df[\"date\"].to_numpy(),\n",
    "        'patient1': contact_df[\"patient1\"].to_numpy(),\n",
    "        'patient2':  contact_df[\"patient2\"].to_numpy()\n",
    "    }\n",
    "    contact_df = pd.DataFrame(data=data, columns = [\"date\", \"patient1\", \"patient2\"])\n",
    "    return contact_df\n",
    "    \n",
    "def extrapolate_contacts(contacts, people, full_people):\n",
    "    print(\"Extrapolating contacts for full dataframe of length %d from small dataframe of length %d\" % (len(full_people), len(people)))\n",
    "#     extrapolated_contacts = full_people.apply(contacts_from_closest_person, axis=1, args=[people, contacts])\n",
    "    ddata = dd.from_pandas(full_people, npartitions=100)\n",
    "    extrapolated_contacts = ddata.map_partitions(lambda df: df.apply(calculate_contacts, axis=1, args=[people, date])).compute(get=get) \n",
    "    return extrapolated_contacts\n",
    "    "
   ]
  },
  {
   "cell_type": "code",
   "execution_count": 73,
   "metadata": {},
   "outputs": [
    {
     "name": "stdout",
     "output_type": "stream",
     "text": [
      "Index(['Unnamed: 0', 'date', 'patient1', 'patient2'], dtype='object')\n"
     ]
    }
   ],
   "source": [
    "# print(improved_daily_contacts.columns)\n",
    "# extrapolated_contacts = extrapolate_contacts(improved_daily_contacts, people_proj, large_people_df)"
   ]
  },
  {
   "cell_type": "code",
   "execution_count": 21,
   "metadata": {},
   "outputs": [
    {
     "name": "stdout",
     "output_type": "stream",
     "text": [
      "shape extrapolated contacts: (551560,)\n"
     ]
    }
   ],
   "source": [
    "# print(\"shape extrapolated contacts:\", extrapolated_contacts.shape)"
   ]
  },
  {
   "cell_type": "code",
   "execution_count": 171,
   "metadata": {},
   "outputs": [],
   "source": [
    "# save=True\n",
    "# if save:\n",
    "#     extrapolated_contacts.to_csv(\"extrapolated_contacts.csv\")\n",
    "    \n",
    "# load=False\n",
    "# if load:\n",
    "#     extrapolated_contacts = pd.read_csv(\"extrapolated_contacts.csv\")"
   ]
  },
  {
   "cell_type": "markdown",
   "metadata": {},
   "source": [
    "# Get list of infected"
   ]
  },
  {
   "cell_type": "code",
   "execution_count": 174,
   "metadata": {},
   "outputs": [
    {
     "name": "stderr",
     "output_type": "stream",
     "text": [
      "/home/camilo/.local/lib/python3.6/site-packages/ipykernel_launcher.py:19: TqdmDeprecationWarning: This function will be removed in tqdm==5.0.0\n",
      "Please use `tqdm.notebook.tqdm` instead of `tqdm.tqdm_notebook`\n"
     ]
    },
    {
     "data": {
      "application/vnd.jupyter.widget-view+json": {
       "model_id": "e8401d6a2dbe489f9a9774cf78e3a9c2",
       "version_major": 2,
       "version_minor": 0
      },
      "text/plain": [
       "HBox(children=(FloatProgress(value=1.0, bar_style='info', max=1.0), HTML(value='')))"
      ]
     },
     "metadata": {},
     "output_type": "display_data"
    },
    {
     "name": "stdout",
     "output_type": "stream",
     "text": [
      "\n",
      "Number of contact dataframes (each correspond to the contacts of one infected on one date): 20970\n"
     ]
    },
    {
     "data": {
      "text/plain": [
       "({'map':       Id             BARRIO           area        COMUNA  \\\n",
       "  0      0       Las Gaviotas  103710.737439  Centro Norte   \n",
       "  1      1       Los Balkanes   58750.503679  Centro Norte   \n",
       "  2      2    Las Gaviotas II   80384.347238  Centro Norte   \n",
       "  3      3   Villa Del Carmen  133642.372386  Centro Norte   \n",
       "  4      4      Villa Cecilia   73397.793457  Centro Norte   \n",
       "  ..   ...                ...            ...           ...   \n",
       "  227  232  Urb. Doña Manuela   86397.705219           Sur   \n",
       "  228  233     Matha  Gisella   17258.161905           Sur   \n",
       "  229  234        Urb. El Rio  113650.306502      Oriental   \n",
       "  230  199   Rigoberta Menchu   11870.886466      Oriental   \n",
       "  231  212     Linda Maria II   12053.239505           Sur   \n",
       "  \n",
       "                                     GlobalID  CreationDa           Creator  \\\n",
       "  0    {DA37628A-E472-4563-A5D9-BAFBCE2FF0C5}  2020-05-11  alcaldia_soledad   \n",
       "  1    {DA43EBEF-6C64-42D0-9C20-DD7BFC415CFD}  2020-05-11  alcaldia_soledad   \n",
       "  2    {5E863F96-61BB-47DC-BB8C-C93613F2F7B8}  2020-05-11  alcaldia_soledad   \n",
       "  3    {35474DEC-962B-4E9A-98CA-26ECA152B775}  2020-05-11  alcaldia_soledad   \n",
       "  4    {B0C1AB1E-49C7-4FE2-A458-51E1B9E75D93}  2020-05-11  alcaldia_soledad   \n",
       "  ..                                      ...         ...               ...   \n",
       "  227  {ADBAD27D-7E6F-444D-B7A0-6AFCFDF8CC2F}  2020-05-11  alcaldia_soledad   \n",
       "  228  {89E33C14-9388-482D-ACDB-2BEA3012B914}  2020-05-11  alcaldia_soledad   \n",
       "  229  {135C8EB0-5CD7-4DF4-A219-B2E6E4DD8E52}  2020-05-11  alcaldia_soledad   \n",
       "  230  {5910D49F-1C85-46B8-BD22-E13E05D2E601}  2020-05-11  alcaldia_soledad   \n",
       "  231  {72A992CF-2D5B-4699-82DE-ABEB57C83237}  2020-05-11  alcaldia_soledad   \n",
       "  \n",
       "         EditDate            Editor  SEXO_M  ...  EDAD_20_30  EDAD_30_40  \\\n",
       "  0    2020-05-11  alcaldia_soledad       0  ...         729         634   \n",
       "  1    2020-05-11  alcaldia_soledad       0  ...         415         330   \n",
       "  2    2020-05-11  alcaldia_soledad       0  ...         442         396   \n",
       "  3    2020-05-11  alcaldia_soledad       0  ...         903         926   \n",
       "  4    2020-05-11  alcaldia_soledad       0  ...         460         420   \n",
       "  ..          ...               ...     ...  ...         ...         ...   \n",
       "  227  2020-05-11  alcaldia_soledad       0  ...          41          29   \n",
       "  228  2020-05-11  alcaldia_soledad       0  ...          77          59   \n",
       "  229  2020-05-11  alcaldia_soledad       0  ...         426         457   \n",
       "  230  2020-05-11  alcaldia_soledad       0  ...           0           0   \n",
       "  231  2020-05-11  alcaldia_soledad       0  ...           0           0   \n",
       "  \n",
       "       EDAD_40_50  EDAD_50_60  EDAD_60_70  EDAD_70_80  EDAD_80_   SHAPE_Leng  \\\n",
       "  0           450         498         253          82        55  1402.576086   \n",
       "  1           199         299         137          44        21  1351.145382   \n",
       "  2           214         319         130          46        22  1287.563635   \n",
       "  3           547         562         428         149        54  2044.288018   \n",
       "  4           287         294         211          67        40  1511.884412   \n",
       "  ..          ...         ...         ...         ...       ...          ...   \n",
       "  227          19          16           3           3         1  1209.594246   \n",
       "  228          64          40          16           6         3   962.446741   \n",
       "  229         423         273         297         193        60  1545.508143   \n",
       "  230           0           0           0           0         0  1183.124958   \n",
       "  231           0           0           0           0         0   672.298033   \n",
       "  \n",
       "          SHAPE_Area                                           geometry  \n",
       "  0    108248.354443  POLYGON ((-8326087.177 1223482.694, -8326093.8...  \n",
       "  1     61321.163119  POLYGON ((-8326179.153 1223953.715, -8326178.1...  \n",
       "  2     83900.887961  POLYGON ((-8326332.514 1223814.165, -8326332.0...  \n",
       "  3    139492.305424  POLYGON ((-8325989.186 1224288.782, -8325980.7...  \n",
       "  4     76611.224183  POLYGON ((-8325667.761 1224302.529, -8325662.0...  \n",
       "  ..             ...                                                ...  \n",
       "  227   90159.860501  POLYGON ((-8325635.418 1220109.041, -8325635.8...  \n",
       "  228   18009.666157  POLYGON ((-8325367.587 1220198.725, -8325367.4...  \n",
       "  229  118628.092480  POLYGON ((-8323758.273 1224199.479, -8323758.7...  \n",
       "  230   12388.677412  POLYGON ((-8322782.784 1221713.023, -8322779.2...  \n",
       "  231   12579.127585  POLYGON ((-8323985.794 1221683.676, -8323984.0...  \n",
       "  \n",
       "  [232 rows x 146 columns],\n",
       "  'location':         patient  date      latitude     longitude\n",
       "  0             0     0  1.220718e+06 -8.323061e+06\n",
       "  0             0     1  1.220718e+06 -8.323061e+06\n",
       "  0             0     2  1.220718e+06 -8.323061e+06\n",
       "  0             0     3  1.220718e+06 -8.323061e+06\n",
       "  0             0     4  1.220718e+06 -8.323061e+06\n",
       "  ...         ...   ...           ...           ...\n",
       "  551559   551559    85  1.220718e+06 -8.323061e+06\n",
       "  551559   551559    86  1.220718e+06 -8.323061e+06\n",
       "  551559   551559    87  1.220718e+06 -8.323061e+06\n",
       "  551559   551559    88  1.220718e+06 -8.323061e+06\n",
       "  551559   551559    89  1.220718e+06 -8.323061e+06\n",
       "  \n",
       "  [49640400 rows x 4 columns],\n",
       "  'patients':      patient\n",
       "  0          0\n",
       "  1          1\n",
       "  2          2\n",
       "  3          3\n",
       "  4          4\n",
       "  ..       ...\n",
       "  451      451\n",
       "  452      452\n",
       "  453      453\n",
       "  454      454\n",
       "  455      455\n",
       "  \n",
       "  [552928 rows x 1 columns],\n",
       "  'dates':     date\n",
       "  0      0\n",
       "  1      1\n",
       "  2      2\n",
       "  3      3\n",
       "  4      4\n",
       "  ..   ...\n",
       "  85    85\n",
       "  86    86\n",
       "  87    87\n",
       "  88    88\n",
       "  89    89\n",
       "  \n",
       "  [90 rows x 1 columns],\n",
       "  'contacts':           Unnamed: 0  date  patient1  patient2\n",
       "  0                  0     0         0         0\n",
       "  1                  1     0         0        15\n",
       "  2                  2     0         0      1479\n",
       "  3                  3     0         0      1480\n",
       "  4                  4     0         1         1\n",
       "  ...              ...   ...       ...       ...\n",
       "  98415995    98415995   999      5963      5959\n",
       "  98415996    98415996   999      5963      5960\n",
       "  98415997    98415997   999      5963      5961\n",
       "  98415998    98415998   999      5963      5962\n",
       "  98415999    98415999   999      5963      5963\n",
       "  \n",
       "  [98416000 rows x 4 columns],\n",
       "  'N_c': 3.9618819422303377,\n",
       "  'states': array([[0., 0., 0., ..., 0., 0., 0.],\n",
       "         [0., 0., 0., ..., 0., 0., 0.],\n",
       "         [0., 0., 0., ..., 0., 0., 0.],\n",
       "         ...,\n",
       "         [2., 7., 7., ..., 7., 7., 7.],\n",
       "         [3., 4., 4., ..., 7., 7., 7.],\n",
       "         [3., 4., 4., ..., 7., 7., 7.]]),\n",
       "  'tests':     patient date result\n",
       "  0      3845    0  False\n",
       "  1      4231    0  False\n",
       "  2      4323    0  False\n",
       "  3      4892    0  False\n",
       "  4      5625    0  False\n",
       "  ..      ...  ...    ...\n",
       "  481  542128   88  False\n",
       "  482  546493   88  False\n",
       "  483  546948   88  False\n",
       "  484  549023   88  False\n",
       "  485  549581   88  False\n",
       "  \n",
       "  [47116 rows x 3 columns],\n",
       "  'hospital':     patient  date\n",
       "  0    551568     2\n",
       "  12   551736     2\n",
       "  11   551732     2\n",
       "  9    551683     2\n",
       "  5    551601     2\n",
       "  8    551664     2\n",
       "  18   551969     3\n",
       "  21   551987     3\n",
       "  2    551580     3\n",
       "  1    551578     3\n",
       "  7    551657     3\n",
       "  20   551978     4\n",
       "  10   551704     4\n",
       "  15   551853     5\n",
       "  17   551960     6\n",
       "  19   551970     6\n",
       "  4    551597     7\n",
       "  13   551747     7\n",
       "  14   551819     8\n",
       "  16   551940    12\n",
       "  6    551641    17\n",
       "  3    551585    22,\n",
       "  'deaths':    patient  date\n",
       "  1   551580     7\n",
       "  3   551970    16\n",
       "  2   551960    34\n",
       "  0   551568    37},\n",
       " array([  0,   1,   2,   3,   4,   5,   6,   7,   8,   9,  10,  11,  12,\n",
       "         13,  14,  15,  16,  17,  18,  19,  20,  21,  22,  23,  24,  25,\n",
       "         26,  27,  28,  29,  30,  31,  32,  33,  34,  35,  36,  37,  38,\n",
       "         39,  40,  41,  42,  43,  44,  45,  46,  47,  48,  49,  50,  51,\n",
       "         52,  53,  54,  55,  56,  57,  58,  59,  60,  61,  62,  63,  64,\n",
       "         65,  66,  67,  68,  69,  70,  71,  72,  73,  74,  75,  76,  77,\n",
       "         78,  79,  80,  81,  82,  83,  84,  85,  86,  87,  88,  89,  90,\n",
       "         91,  92,  93,  94,  95,  96,  97,  98,  99, 100, 101, 102, 103,\n",
       "        104, 105, 106, 107, 108, 109, 110, 111, 112, 113, 114, 115, 116,\n",
       "        117, 118, 119, 120, 121, 122, 123, 124, 125, 126, 127, 128, 129,\n",
       "        130, 131, 132, 133, 134, 135, 136, 137, 138, 139, 140, 141, 142,\n",
       "        143, 144, 145, 146, 147, 148, 149, 150, 151, 152, 153, 154, 155,\n",
       "        156, 157, 158, 159, 160, 161, 162, 163, 164, 165, 166, 167, 168,\n",
       "        169, 170, 171, 172, 173, 174, 175, 176, 177, 178, 179, 180, 181,\n",
       "        182, 183, 184, 185, 186, 187, 188, 189, 190, 191, 192, 193, 194,\n",
       "        195, 196, 197, 198, 199, 200, 201, 202, 203, 204, 205, 206, 207,\n",
       "        208, 209, 210, 211, 212, 213, 214, 215, 216, 217, 218, 219, 220,\n",
       "        221, 222, 223, 224, 225, 226, 227, 228, 229, 230, 231, 232, 233,\n",
       "        234, 235, 236, 237, 238, 239, 240, 241, 242, 243, 244, 245, 246,\n",
       "        247, 248, 249, 250, 251, 252, 253, 254, 255, 256, 257, 258, 259,\n",
       "        260, 261, 262, 263, 264, 265, 266, 267, 268, 269, 270, 271, 272,\n",
       "        273, 274, 275, 276, 277, 278, 279, 280, 281, 282, 283, 284, 285,\n",
       "        286, 287, 288, 289, 290, 291, 292, 293, 294, 295, 296, 297, 298,\n",
       "        299, 300, 301, 302, 303, 304, 305, 306, 307, 308, 309, 310, 311,\n",
       "        312, 313, 314, 315, 316, 317, 318, 319, 320, 321, 322, 323, 324,\n",
       "        325, 326, 327, 328, 329, 330, 331, 332, 333, 334, 335, 336, 337,\n",
       "        338, 339, 340, 341, 342, 343, 344, 345, 346, 347, 348, 349, 350,\n",
       "        351, 352, 353, 354, 355, 356, 357, 358, 359, 360, 361, 362, 363,\n",
       "        364, 365, 366, 367, 368, 369, 370, 371, 372, 373, 374, 375, 376,\n",
       "        377, 378, 379, 380, 381, 382, 383, 384, 385, 386, 387, 388, 389,\n",
       "        390, 391, 392, 393, 394, 395, 396, 397, 398, 399, 400, 401, 402,\n",
       "        403, 404, 405, 406, 407, 408, 409, 410, 411, 412, 413, 414, 415,\n",
       "        416, 417, 418, 419, 420, 421, 422, 423, 424, 425, 426, 427, 428,\n",
       "        429, 430, 431, 432, 433, 434, 435, 436, 437, 438, 439, 440, 441,\n",
       "        442, 443, 444, 445, 446, 447, 448, 449, 450, 451, 452, 453, 454,\n",
       "        455]))"
      ]
     },
     "execution_count": 174,
     "metadata": {},
     "output_type": "execute_result"
    }
   ],
   "source": [
    "\n",
    "def include_infected(sim, path_to_infected_file=os.path.join(shp_path,\"POSITIVOS_COVID_19.shp\"), T=90, start_id=0):\n",
    "    posi = gpd.read_file(path_to_infected_file)\n",
    "\n",
    "    inf_active = posi[posi[\"estado_ate\"]==1]\n",
    "    latitudes = inf_active.geometry.centroid.y\n",
    "    longitudes = inf_active.geometry.centroid.x\n",
    "    infected_ids = np.arange(start_id, len(inf_active)+start_id)\n",
    "    infected_locations = pd.DataFrame({\"patient\": np.tile(infected_ids, T), \n",
    "                                       \"date\": np.tile(np.arange(T), len(inf_active)), \n",
    "                                       \"latitude\": np.repeat(latitudes, T), \n",
    "                                       \"longitude\": np.repeat(longitudes, T)})\n",
    "    \n",
    "    sim[\"location\"].append(infected_locations)\n",
    "    sim[\"patients\"] = sim[\"patients\"].append(pd.DataFrame({\"patient\": infected_ids}))\n",
    "\n",
    "\n",
    "    contacts_df_list = []\n",
    "    c=0\n",
    "    for i, mnz in tqdm(mnz_data.iterrows()):\n",
    "#         print(\"searching if any infected in mnz %d\" % i)\n",
    "        infected_ids_in_mnz = infected_ids[inf_active.geometry.centroid.within(mnz.geometry.buffer(100))]\n",
    "#         print(\"found %d infected in mnz\" % len(infected_ids_in_mnz))\n",
    "#         print(infected_ids_in_mnz)\n",
    "        if len(infected_ids_in_mnz)==0:\n",
    "            continue\n",
    "        ids_in_mnz = mnz2ids[i]\n",
    "        n_ppl_in_mnz = len(ids_in_mnz)\n",
    "#         print(\"People in this mnz:\", n_ppl_in_mnz)\n",
    "        \n",
    "        for date in range(90):\n",
    "            for id_inf in infected_ids_in_mnz:\n",
    "                data = {\n",
    "                    'date': np.repeat(date, n_ppl_in_mnz),\n",
    "                    'patient1': np.repeat(id_inf, n_ppl_in_mnz),\n",
    "                    'patient2': ids_in_mnz\n",
    "                }\n",
    "\n",
    "                contacts_df_list.append(pd.DataFrame(data=data, columns = [\"date\", \"patient1\", \"patient2\"]))\n",
    "                \n",
    "        c+=1\n",
    "        if c>100:break\n",
    "    print(\"Number of contact dataframes (each correspond to the contacts of one infected on one date): %d\" % len(contacts_df_list))\n",
    "    infected_contacts = pd.concat(contacts_df_list)\n",
    "    sim[\"contacts\"].append(infected_contacts)\n",
    "    return sim, infected_ids\n",
    "    \n",
    "# test\n",
    "include_infected(sim_full)"
   ]
  },
  {
   "cell_type": "markdown",
   "metadata": {},
   "source": [
    "# Run full simulation"
   ]
  },
  {
   "cell_type": "code",
   "execution_count": 205,
   "metadata": {},
   "outputs": [
    {
     "name": "stdout",
     "output_type": "stream",
     "text": [
      "type(people_df), len(people_df) <class 'pandas.core.frame.DataFrame'> 534786\n",
      "Simulation instantiated. Current people in simulation: 534786\n",
      "Current simulation keys: dict_keys(['map', 'location', 'patients', 'dates', 'contacts'])\n"
     ]
    },
    {
     "name": "stderr",
     "output_type": "stream",
     "text": [
      "/home/camilo/.local/lib/python3.6/site-packages/ipykernel_launcher.py:19: TqdmDeprecationWarning: This function will be removed in tqdm==5.0.0\n",
      "Please use `tqdm.notebook.tqdm` instead of `tqdm.tqdm_notebook`\n"
     ]
    },
    {
     "data": {
      "application/vnd.jupyter.widget-view+json": {
       "model_id": "1f2e0b7f0e6f4f00827b4f61b9736c64",
       "version_major": 2,
       "version_minor": 0
      },
      "text/plain": [
       "HBox(children=(FloatProgress(value=1.0, bar_style='info', max=1.0), HTML(value='')))"
      ]
     },
     "metadata": {},
     "output_type": "display_data"
    },
    {
     "name": "stdout",
     "output_type": "stream",
     "text": [
      "\n",
      "Number of contact dataframes (each correspond to the contacts of one infected on one date): 20970\n",
      "Included 456 infected\n",
      "Final number of people to simulate: 535242\n",
      "Average daily contacts for full df: 0.022203289975998394\n"
     ]
    }
   ],
   "source": [
    "T=90\n",
    "sim_full = instantiate_sim(neigh_info_path, large_people_df, T=T, reindex=True)\n",
    "sim_full[\"contacts\"] = contacts_df\n",
    "print(\"Simulation instantiated. Current people in simulation: %d\" % len(sim_full[\"patients\"]))\n",
    "print(\"Current simulation keys:\", sim_full.keys())\n",
    "sim_full, infected_ids = include_infected(sim_full, T=T, start_id=len(large_people_df))\n",
    "print(\"Included %d infected\" % len(infected_ids))\n",
    "print(\"Final number of people to simulate: %d\" % len(sim_full[\"patients\"]))\n",
    "sim_full[\"N_c\"] = contacts.calculate_Nc(sim_full)\n",
    "print(\"Average daily contacts for full df: {}\".format(sim_full[\"N_c\"]))\n",
    "# np.savetxt('sim_states_full.csv', sim_results[\"states\"], delimiter=',')"
   ]
  },
  {
   "cell_type": "code",
   "execution_count": 222,
   "metadata": {},
   "outputs": [
    {
     "name": "stdout",
     "output_type": "stream",
     "text": [
      "Calculating states...\n",
      "89 89\n",
      "contacts found with given date 0:  0\n",
      "t = 0; 456 infectious; 0 exposed; 534786 susceptible; 0 dead\n",
      "89 89\n",
      "contacts found with given date 1:  0\n",
      "89 89\n",
      "contacts found with given date 2:  0\n",
      "89 89\n",
      "contacts found with given date 3:  0\n",
      "89 89\n",
      "contacts found with given date 4:  0\n",
      "89 89\n",
      "contacts found with given date 5:  0\n",
      "89 89\n",
      "contacts found with given date 6:  0\n",
      "89 89\n",
      "contacts found with given date 7:  0\n",
      "89 89\n",
      "contacts found with given date 8:  0\n",
      "89 89\n",
      "contacts found with given date 9:  0\n",
      "t = 9; 125 infectious; 0 exposed; 534786 susceptible; 2 dead\n",
      "89 89\n",
      "contacts found with given date 10:  0\n",
      "89 89\n",
      "contacts found with given date 11:  0\n",
      "89 89\n",
      "contacts found with given date 12:  0\n",
      "89 89\n",
      "contacts found with given date 13:  0\n",
      "89 89\n",
      "contacts found with given date 14:  0\n",
      "89 89\n",
      "contacts found with given date 15:  0\n",
      "89 89\n",
      "contacts found with given date 16:  0\n",
      "89 89\n",
      "contacts found with given date 17:  0\n",
      "89 89\n",
      "contacts found with given date 18:  0\n",
      "t = 18; 28 infectious; 0 exposed; 534786 susceptible; 6 dead\n",
      "89 89\n",
      "contacts found with given date 19:  0\n",
      "89 89\n",
      "contacts found with given date 20:  0\n",
      "89 89\n",
      "contacts found with given date 21:  0\n",
      "89 89\n",
      "contacts found with given date 22:  0\n",
      "89 89\n",
      "contacts found with given date 23:  0\n",
      "89 89\n",
      "contacts found with given date 24:  0\n",
      "89 89\n",
      "contacts found with given date 25:  0\n",
      "89 89\n",
      "contacts found with given date 26:  0\n",
      "89 89\n",
      "contacts found with given date 27:  0\n",
      "t = 27; 7 infectious; 0 exposed; 534786 susceptible; 6 dead\n",
      "89 89\n",
      "contacts found with given date 28:  0\n",
      "89 89\n",
      "contacts found with given date 29:  0\n",
      "89 89\n",
      "contacts found with given date 30:  0\n",
      "89 89\n",
      "contacts found with given date 31:  0\n",
      "89 89\n",
      "contacts found with given date 32:  0\n",
      "89 89\n",
      "contacts found with given date 33:  0\n",
      "89 89\n",
      "contacts found with given date 34:  0\n",
      "89 89\n",
      "contacts found with given date 35:  0\n",
      "89 89\n",
      "contacts found with given date 36:  0\n",
      "t = 36; 2 infectious; 0 exposed; 534786 susceptible; 7 dead\n",
      "89 89\n",
      "contacts found with given date 37:  0\n",
      "89 89\n",
      "contacts found with given date 38:  0\n",
      "89 89\n",
      "contacts found with given date 39:  0\n",
      "89 89\n",
      "contacts found with given date 40:  0\n",
      "89 89\n",
      "contacts found with given date 41:  0\n",
      "89 89\n",
      "contacts found with given date 42:  0\n",
      "89 89\n",
      "contacts found with given date 43:  0\n",
      "89 89\n",
      "contacts found with given date 44:  0\n",
      "89 89\n",
      "contacts found with given date 45:  0\n",
      "t = 45; 1 infectious; 0 exposed; 534786 susceptible; 7 dead\n",
      "89 89\n",
      "contacts found with given date 46:  0\n",
      "89 89\n",
      "contacts found with given date 47:  0\n",
      "89 89\n",
      "contacts found with given date 48:  0\n",
      "89 89\n",
      "contacts found with given date 49:  0\n",
      "89 89\n",
      "contacts found with given date 50:  0\n",
      "89 89\n",
      "contacts found with given date 51:  0\n",
      "89 89\n",
      "contacts found with given date 52:  0\n",
      "89 89\n",
      "contacts found with given date 53:  0\n",
      "89 89\n",
      "contacts found with given date 54:  0\n",
      "t = 54; 0 infectious; 0 exposed; 534786 susceptible; 7 dead\n",
      "89 89\n",
      "contacts found with given date 55:  0\n",
      "89 89\n",
      "contacts found with given date 56:  0\n",
      "89 89\n",
      "contacts found with given date 57:  0\n",
      "89 89\n",
      "contacts found with given date 58:  0\n",
      "89 89\n",
      "contacts found with given date 59:  0\n",
      "89 89\n",
      "contacts found with given date 60:  0\n",
      "89 89\n",
      "contacts found with given date 61:  0\n",
      "89 89\n",
      "contacts found with given date 62:  0\n",
      "89 89\n",
      "contacts found with given date 63:  0\n",
      "t = 63; 0 infectious; 0 exposed; 534786 susceptible; 8 dead\n",
      "89 89\n",
      "contacts found with given date 64:  0\n",
      "89 89\n",
      "contacts found with given date 65:  0\n",
      "89 89\n",
      "contacts found with given date 66:  0\n",
      "89 89\n",
      "contacts found with given date 67:  0\n",
      "89 89\n",
      "contacts found with given date 68:  0\n",
      "89 89\n",
      "contacts found with given date 69:  0\n",
      "89 89\n",
      "contacts found with given date 70:  0\n",
      "89 89\n",
      "contacts found with given date 71:  0\n",
      "89 89\n",
      "contacts found with given date 72:  0\n",
      "t = 72; 0 infectious; 0 exposed; 534786 susceptible; 8 dead\n",
      "89 89\n",
      "contacts found with given date 73:  0\n",
      "89 89\n",
      "contacts found with given date 74:  0\n",
      "89 89\n",
      "contacts found with given date 75:  0\n",
      "89 89\n",
      "contacts found with given date 76:  0\n",
      "89 89\n",
      "contacts found with given date 77:  0\n",
      "89 89\n",
      "contacts found with given date 78:  0\n",
      "89 89\n",
      "contacts found with given date 79:  0\n",
      "89 89\n",
      "contacts found with given date 80:  0\n",
      "89 89\n",
      "contacts found with given date 81:  0\n",
      "t = 81; 0 infectious; 0 exposed; 534786 susceptible; 8 dead\n",
      "89 89\n",
      "contacts found with given date 82:  0\n",
      "89 89\n",
      "contacts found with given date 83:  0\n",
      "89 89\n",
      "contacts found with given date 84:  0\n",
      "89 89\n",
      "contacts found with given date 85:  0\n",
      "89 89\n",
      "contacts found with given date 86:  0\n",
      "89 89\n",
      "contacts found with given date 87:  0\n",
      "89 89\n",
      "contacts found with given date 88:  0\n",
      "Calculated states in 522.37 seconds.\n"
     ]
    }
   ],
   "source": [
    "sim_results = run_sim(sim_full, N_infected=0, infected = infected_ids)"
   ]
  },
  {
   "cell_type": "code",
   "execution_count": 63,
   "metadata": {},
   "outputs": [],
   "source": [
    "np.savetxt('sim_states_full.csv', sim_results[\"states\"], delimiter=',')"
   ]
  },
  {
   "cell_type": "markdown",
   "metadata": {},
   "source": [
    "# Alternative: compute full contacts with heavy parallelism"
   ]
  },
  {
   "cell_type": "code",
   "execution_count": 189,
   "metadata": {},
   "outputs": [
    {
     "ename": "AttributeError",
     "evalue": "'DataFrame' object has no attribute 'geometry'",
     "output_type": "error",
     "traceback": [
      "\u001b[0;31m---------------------------------------------------------------------------\u001b[0m",
      "\u001b[0;31mAttributeError\u001b[0m                            Traceback (most recent call last)",
      "\u001b[0;32m~/.local/lib/python3.6/site-packages/swifter/swifter.py\u001b[0m in \u001b[0;36mapply\u001b[0;34m(self, func, axis, raw, result_type, args, **kwds)\u001b[0m\n\u001b[1;32m    336\u001b[0m             \u001b[0;32mwith\u001b[0m \u001b[0msuppress_stdout_stderr\u001b[0m\u001b[0;34m(\u001b[0m\u001b[0;34m)\u001b[0m\u001b[0;34m:\u001b[0m\u001b[0;34m\u001b[0m\u001b[0;34m\u001b[0m\u001b[0m\n\u001b[0;32m--> 337\u001b[0;31m                 \u001b[0mtmp_df\u001b[0m \u001b[0;34m=\u001b[0m \u001b[0mfunc\u001b[0m\u001b[0;34m(\u001b[0m\u001b[0msample\u001b[0m\u001b[0;34m,\u001b[0m \u001b[0;34m*\u001b[0m\u001b[0margs\u001b[0m\u001b[0;34m,\u001b[0m \u001b[0;34m**\u001b[0m\u001b[0mkwds\u001b[0m\u001b[0;34m)\u001b[0m\u001b[0;34m\u001b[0m\u001b[0;34m\u001b[0m\u001b[0m\n\u001b[0m\u001b[1;32m    338\u001b[0m                 \u001b[0msample_df\u001b[0m \u001b[0;34m=\u001b[0m \u001b[0msample\u001b[0m\u001b[0;34m.\u001b[0m\u001b[0mapply\u001b[0m\u001b[0;34m(\u001b[0m\u001b[0mfunc\u001b[0m\u001b[0;34m,\u001b[0m \u001b[0maxis\u001b[0m\u001b[0;34m=\u001b[0m\u001b[0maxis\u001b[0m\u001b[0;34m,\u001b[0m \u001b[0mraw\u001b[0m\u001b[0;34m=\u001b[0m\u001b[0mraw\u001b[0m\u001b[0;34m,\u001b[0m \u001b[0mresult_type\u001b[0m\u001b[0;34m=\u001b[0m\u001b[0mresult_type\u001b[0m\u001b[0;34m,\u001b[0m \u001b[0margs\u001b[0m\u001b[0;34m=\u001b[0m\u001b[0margs\u001b[0m\u001b[0;34m,\u001b[0m \u001b[0;34m**\u001b[0m\u001b[0mkwds\u001b[0m\u001b[0;34m)\u001b[0m\u001b[0;34m\u001b[0m\u001b[0;34m\u001b[0m\u001b[0m\n",
      "\u001b[0;32m<ipython-input-189-6d390bb97cac>\u001b[0m in \u001b[0;36mcalculate_contacts\u001b[0;34m(polygon, points, date)\u001b[0m\n\u001b[1;32m      2\u001b[0m \u001b[0;34m\u001b[0m\u001b[0m\n\u001b[0;32m----> 3\u001b[0;31m     \u001b[0m_people\u001b[0m \u001b[0;34m=\u001b[0m \u001b[0mpoints\u001b[0m\u001b[0;34m[\u001b[0m\u001b[0mpoints\u001b[0m\u001b[0;34m.\u001b[0m\u001b[0mgeometry\u001b[0m\u001b[0;34m.\u001b[0m\u001b[0mcentroid\u001b[0m\u001b[0;34m.\u001b[0m\u001b[0mwithin\u001b[0m\u001b[0;34m(\u001b[0m\u001b[0mpolygon\u001b[0m\u001b[0;34m.\u001b[0m\u001b[0mgeometry\u001b[0m\u001b[0;34m.\u001b[0m\u001b[0mbuffer\u001b[0m\u001b[0;34m(\u001b[0m\u001b[0;36m100\u001b[0m\u001b[0;34m)\u001b[0m\u001b[0;34m)\u001b[0m\u001b[0;34m]\u001b[0m\u001b[0;34m\u001b[0m\u001b[0;34m\u001b[0m\u001b[0m\n\u001b[0m\u001b[1;32m      4\u001b[0m \u001b[0;31m#     print(len(_people))\u001b[0m\u001b[0;34m\u001b[0m\u001b[0;34m\u001b[0m\u001b[0;34m\u001b[0m\u001b[0m\n",
      "\u001b[0;32m~/.local/lib/python3.6/site-packages/pandas/core/generic.py\u001b[0m in \u001b[0;36m__getattr__\u001b[0;34m(self, name)\u001b[0m\n\u001b[1;32m   5273\u001b[0m                 \u001b[0;32mreturn\u001b[0m \u001b[0mself\u001b[0m\u001b[0;34m[\u001b[0m\u001b[0mname\u001b[0m\u001b[0;34m]\u001b[0m\u001b[0;34m\u001b[0m\u001b[0;34m\u001b[0m\u001b[0m\n\u001b[0;32m-> 5274\u001b[0;31m             \u001b[0;32mreturn\u001b[0m \u001b[0mobject\u001b[0m\u001b[0;34m.\u001b[0m\u001b[0m__getattribute__\u001b[0m\u001b[0;34m(\u001b[0m\u001b[0mself\u001b[0m\u001b[0;34m,\u001b[0m \u001b[0mname\u001b[0m\u001b[0;34m)\u001b[0m\u001b[0;34m\u001b[0m\u001b[0;34m\u001b[0m\u001b[0m\n\u001b[0m\u001b[1;32m   5275\u001b[0m \u001b[0;34m\u001b[0m\u001b[0m\n",
      "\u001b[0;31mAttributeError\u001b[0m: 'DataFrame' object has no attribute 'geometry'",
      "\nDuring handling of the above exception, another exception occurred:\n",
      "\u001b[0;31mAttributeError\u001b[0m                            Traceback (most recent call last)",
      "\u001b[0;32m<ipython-input-189-6d390bb97cac>\u001b[0m in \u001b[0;36m<module>\u001b[0;34m\u001b[0m\n\u001b[1;32m     41\u001b[0m     \u001b[0;32mreturn\u001b[0m \u001b[0mimproved_daily_contacts\u001b[0m\u001b[0;34m\u001b[0m\u001b[0;34m\u001b[0m\u001b[0m\n\u001b[1;32m     42\u001b[0m \u001b[0;34m\u001b[0m\u001b[0m\n\u001b[0;32m---> 43\u001b[0;31m \u001b[0mfull_daily_contacts\u001b[0m \u001b[0;34m=\u001b[0m \u001b[0mcalculate_daily_contacts\u001b[0m\u001b[0;34m(\u001b[0m\u001b[0mlarge_people_df\u001b[0m\u001b[0;34m,\u001b[0m \u001b[0msim_full\u001b[0m\u001b[0;34m,\u001b[0m \u001b[0mload_from_csv\u001b[0m\u001b[0;34m=\u001b[0m\u001b[0;32mFalse\u001b[0m\u001b[0;34m)\u001b[0m\u001b[0;34m\u001b[0m\u001b[0;34m\u001b[0m\u001b[0m\n\u001b[0m\u001b[1;32m     44\u001b[0m \u001b[0msim_full\u001b[0m\u001b[0;34m[\u001b[0m\u001b[0;34m\"contacts\"\u001b[0m\u001b[0;34m]\u001b[0m \u001b[0;34m=\u001b[0m \u001b[0mfull_daily_contacts\u001b[0m\u001b[0;34m\u001b[0m\u001b[0;34m\u001b[0m\u001b[0m\n\u001b[1;32m     45\u001b[0m \u001b[0msim_full\u001b[0m\u001b[0;34m[\u001b[0m\u001b[0;34m\"N_c\"\u001b[0m\u001b[0;34m]\u001b[0m \u001b[0;34m=\u001b[0m \u001b[0mcontacts\u001b[0m\u001b[0;34m.\u001b[0m\u001b[0mcalculate_Nc\u001b[0m\u001b[0;34m(\u001b[0m\u001b[0msim_full\u001b[0m\u001b[0;34m)\u001b[0m\u001b[0;34m\u001b[0m\u001b[0;34m\u001b[0m\u001b[0m\n",
      "\u001b[0;32m<ipython-input-189-6d390bb97cac>\u001b[0m in \u001b[0;36mcalculate_daily_contacts\u001b[0;34m(people_proj, sim, load_from_csv)\u001b[0m\n\u001b[1;32m     21\u001b[0m     \u001b[0;31m# calculate daily contacts for day 1 as they will be repeated for the other days\u001b[0m\u001b[0;34m\u001b[0m\u001b[0;34m\u001b[0m\u001b[0;34m\u001b[0m\u001b[0m\n\u001b[1;32m     22\u001b[0m     \u001b[0mdate\u001b[0m \u001b[0;34m=\u001b[0m \u001b[0msim\u001b[0m\u001b[0;34m[\u001b[0m\u001b[0;34m\"dates\"\u001b[0m\u001b[0;34m]\u001b[0m\u001b[0;34m[\u001b[0m\u001b[0;34m\"date\"\u001b[0m\u001b[0;34m]\u001b[0m\u001b[0;34m[\u001b[0m\u001b[0;36m0\u001b[0m\u001b[0;34m]\u001b[0m\u001b[0;34m\u001b[0m\u001b[0;34m\u001b[0m\u001b[0m\n\u001b[0;32m---> 23\u001b[0;31m     \u001b[0mdaily_contacts\u001b[0m \u001b[0;34m=\u001b[0m \u001b[0mpeople_proj\u001b[0m\u001b[0;34m.\u001b[0m\u001b[0mswifter\u001b[0m\u001b[0;34m.\u001b[0m\u001b[0mapply\u001b[0m\u001b[0;34m(\u001b[0m\u001b[0mcalculate_contacts\u001b[0m\u001b[0;34m,\u001b[0m \u001b[0maxis\u001b[0m\u001b[0;34m=\u001b[0m\u001b[0;36m1\u001b[0m\u001b[0;34m,\u001b[0m \u001b[0margs\u001b[0m\u001b[0;34m=\u001b[0m\u001b[0;34m[\u001b[0m\u001b[0mpeople_proj\u001b[0m\u001b[0;34m,\u001b[0m \u001b[0mdate\u001b[0m\u001b[0;34m]\u001b[0m\u001b[0;34m)\u001b[0m\u001b[0;34m\u001b[0m\u001b[0;34m\u001b[0m\u001b[0m\n\u001b[0m\u001b[1;32m     24\u001b[0m \u001b[0;34m\u001b[0m\u001b[0m\n\u001b[1;32m     25\u001b[0m     \u001b[0moriginal_daily_contacts\u001b[0m \u001b[0;34m=\u001b[0m \u001b[0mpd\u001b[0m\u001b[0;34m.\u001b[0m\u001b[0mconcat\u001b[0m\u001b[0;34m(\u001b[0m\u001b[0mlist\u001b[0m\u001b[0;34m(\u001b[0m\u001b[0mdaily_contacts\u001b[0m\u001b[0;34m)\u001b[0m\u001b[0;34m,\u001b[0m \u001b[0msort\u001b[0m\u001b[0;34m=\u001b[0m\u001b[0;32mFalse\u001b[0m\u001b[0;34m)\u001b[0m\u001b[0;34m\u001b[0m\u001b[0;34m\u001b[0m\u001b[0m\n",
      "\u001b[0;32m~/.local/lib/python3.6/site-packages/swifter/swifter.py\u001b[0m in \u001b[0;36mapply\u001b[0;34m(self, func, axis, raw, result_type, args, **kwds)\u001b[0m\n\u001b[1;32m    350\u001b[0m         ):  # if can't vectorize, estimate time to pandas apply\n\u001b[1;32m    351\u001b[0m             \u001b[0mwrapped\u001b[0m \u001b[0;34m=\u001b[0m \u001b[0mself\u001b[0m\u001b[0;34m.\u001b[0m\u001b[0m_wrapped_apply\u001b[0m\u001b[0;34m(\u001b[0m\u001b[0mfunc\u001b[0m\u001b[0;34m,\u001b[0m \u001b[0maxis\u001b[0m\u001b[0;34m=\u001b[0m\u001b[0maxis\u001b[0m\u001b[0;34m,\u001b[0m \u001b[0mraw\u001b[0m\u001b[0;34m=\u001b[0m\u001b[0mraw\u001b[0m\u001b[0;34m,\u001b[0m \u001b[0mresult_type\u001b[0m\u001b[0;34m=\u001b[0m\u001b[0mresult_type\u001b[0m\u001b[0;34m,\u001b[0m \u001b[0margs\u001b[0m\u001b[0;34m=\u001b[0m\u001b[0margs\u001b[0m\u001b[0;34m,\u001b[0m \u001b[0;34m**\u001b[0m\u001b[0mkwds\u001b[0m\u001b[0;34m)\u001b[0m\u001b[0;34m\u001b[0m\u001b[0;34m\u001b[0m\u001b[0m\n\u001b[0;32m--> 352\u001b[0;31m             \u001b[0mtimed\u001b[0m \u001b[0;34m=\u001b[0m \u001b[0mtimeit\u001b[0m\u001b[0;34m.\u001b[0m\u001b[0mtimeit\u001b[0m\u001b[0;34m(\u001b[0m\u001b[0mwrapped\u001b[0m\u001b[0;34m,\u001b[0m \u001b[0mnumber\u001b[0m\u001b[0;34m=\u001b[0m\u001b[0mN_REPEATS\u001b[0m\u001b[0;34m)\u001b[0m\u001b[0;34m\u001b[0m\u001b[0;34m\u001b[0m\u001b[0m\n\u001b[0m\u001b[1;32m    353\u001b[0m             \u001b[0msample_proc_est\u001b[0m \u001b[0;34m=\u001b[0m \u001b[0mtimed\u001b[0m \u001b[0;34m/\u001b[0m \u001b[0mN_REPEATS\u001b[0m\u001b[0;34m\u001b[0m\u001b[0;34m\u001b[0m\u001b[0m\n\u001b[1;32m    354\u001b[0m             \u001b[0mest_apply_duration\u001b[0m \u001b[0;34m=\u001b[0m \u001b[0msample_proc_est\u001b[0m \u001b[0;34m/\u001b[0m \u001b[0mself\u001b[0m\u001b[0;34m.\u001b[0m\u001b[0m_SAMPLE_SIZE\u001b[0m \u001b[0;34m*\u001b[0m \u001b[0mself\u001b[0m\u001b[0;34m.\u001b[0m\u001b[0m_obj\u001b[0m\u001b[0;34m.\u001b[0m\u001b[0mshape\u001b[0m\u001b[0;34m[\u001b[0m\u001b[0;36m0\u001b[0m\u001b[0;34m]\u001b[0m\u001b[0;34m\u001b[0m\u001b[0;34m\u001b[0m\u001b[0m\n",
      "\u001b[0;32m/usr/lib/python3.6/timeit.py\u001b[0m in \u001b[0;36mtimeit\u001b[0;34m(stmt, setup, timer, number, globals)\u001b[0m\n\u001b[1;32m    231\u001b[0m            number=default_number, globals=None):\n\u001b[1;32m    232\u001b[0m     \u001b[0;34m\"\"\"Convenience function to create Timer object and call timeit method.\"\"\"\u001b[0m\u001b[0;34m\u001b[0m\u001b[0;34m\u001b[0m\u001b[0m\n\u001b[0;32m--> 233\u001b[0;31m     \u001b[0;32mreturn\u001b[0m \u001b[0mTimer\u001b[0m\u001b[0;34m(\u001b[0m\u001b[0mstmt\u001b[0m\u001b[0;34m,\u001b[0m \u001b[0msetup\u001b[0m\u001b[0;34m,\u001b[0m \u001b[0mtimer\u001b[0m\u001b[0;34m,\u001b[0m \u001b[0mglobals\u001b[0m\u001b[0;34m)\u001b[0m\u001b[0;34m.\u001b[0m\u001b[0mtimeit\u001b[0m\u001b[0;34m(\u001b[0m\u001b[0mnumber\u001b[0m\u001b[0;34m)\u001b[0m\u001b[0;34m\u001b[0m\u001b[0;34m\u001b[0m\u001b[0m\n\u001b[0m\u001b[1;32m    234\u001b[0m \u001b[0;34m\u001b[0m\u001b[0m\n\u001b[1;32m    235\u001b[0m def repeat(stmt=\"pass\", setup=\"pass\", timer=default_timer,\n",
      "\u001b[0;32m/usr/lib/python3.6/timeit.py\u001b[0m in \u001b[0;36mtimeit\u001b[0;34m(self, number)\u001b[0m\n\u001b[1;32m    176\u001b[0m         \u001b[0mgc\u001b[0m\u001b[0;34m.\u001b[0m\u001b[0mdisable\u001b[0m\u001b[0;34m(\u001b[0m\u001b[0;34m)\u001b[0m\u001b[0;34m\u001b[0m\u001b[0;34m\u001b[0m\u001b[0m\n\u001b[1;32m    177\u001b[0m         \u001b[0;32mtry\u001b[0m\u001b[0;34m:\u001b[0m\u001b[0;34m\u001b[0m\u001b[0;34m\u001b[0m\u001b[0m\n\u001b[0;32m--> 178\u001b[0;31m             \u001b[0mtiming\u001b[0m \u001b[0;34m=\u001b[0m \u001b[0mself\u001b[0m\u001b[0;34m.\u001b[0m\u001b[0minner\u001b[0m\u001b[0;34m(\u001b[0m\u001b[0mit\u001b[0m\u001b[0;34m,\u001b[0m \u001b[0mself\u001b[0m\u001b[0;34m.\u001b[0m\u001b[0mtimer\u001b[0m\u001b[0;34m)\u001b[0m\u001b[0;34m\u001b[0m\u001b[0;34m\u001b[0m\u001b[0m\n\u001b[0m\u001b[1;32m    179\u001b[0m         \u001b[0;32mfinally\u001b[0m\u001b[0;34m:\u001b[0m\u001b[0;34m\u001b[0m\u001b[0;34m\u001b[0m\u001b[0m\n\u001b[1;32m    180\u001b[0m             \u001b[0;32mif\u001b[0m \u001b[0mgcold\u001b[0m\u001b[0;34m:\u001b[0m\u001b[0;34m\u001b[0m\u001b[0;34m\u001b[0m\u001b[0m\n",
      "\u001b[0;32m/usr/lib/python3.6/timeit.py\u001b[0m in \u001b[0;36minner\u001b[0;34m(_it, _timer, _stmt)\u001b[0m\n",
      "\u001b[0;32m~/.local/lib/python3.6/site-packages/swifter/swifter.py\u001b[0m in \u001b[0;36mwrapped\u001b[0;34m()\u001b[0m\n\u001b[1;32m    277\u001b[0m             \u001b[0;32mwith\u001b[0m \u001b[0msuppress_stdout_stderr\u001b[0m\u001b[0;34m(\u001b[0m\u001b[0;34m)\u001b[0m\u001b[0;34m:\u001b[0m\u001b[0;34m\u001b[0m\u001b[0;34m\u001b[0m\u001b[0m\n\u001b[1;32m    278\u001b[0m                 self._obj.iloc[: self._SAMPLE_SIZE, :].apply(\n\u001b[0;32m--> 279\u001b[0;31m                     \u001b[0mfunc\u001b[0m\u001b[0;34m,\u001b[0m \u001b[0maxis\u001b[0m\u001b[0;34m=\u001b[0m\u001b[0maxis\u001b[0m\u001b[0;34m,\u001b[0m \u001b[0mraw\u001b[0m\u001b[0;34m=\u001b[0m\u001b[0mraw\u001b[0m\u001b[0;34m,\u001b[0m \u001b[0mresult_type\u001b[0m\u001b[0;34m=\u001b[0m\u001b[0mresult_type\u001b[0m\u001b[0;34m,\u001b[0m \u001b[0margs\u001b[0m\u001b[0;34m=\u001b[0m\u001b[0margs\u001b[0m\u001b[0;34m,\u001b[0m \u001b[0;34m**\u001b[0m\u001b[0mkwds\u001b[0m\u001b[0;34m\u001b[0m\u001b[0;34m\u001b[0m\u001b[0m\n\u001b[0m\u001b[1;32m    280\u001b[0m                 )\n\u001b[1;32m    281\u001b[0m \u001b[0;34m\u001b[0m\u001b[0m\n",
      "\u001b[0;32m~/.local/lib/python3.6/site-packages/pandas/core/frame.py\u001b[0m in \u001b[0;36mapply\u001b[0;34m(self, func, axis, raw, result_type, args, **kwds)\u001b[0m\n\u001b[1;32m   6876\u001b[0m             \u001b[0mkwds\u001b[0m\u001b[0;34m=\u001b[0m\u001b[0mkwds\u001b[0m\u001b[0;34m,\u001b[0m\u001b[0;34m\u001b[0m\u001b[0;34m\u001b[0m\u001b[0m\n\u001b[1;32m   6877\u001b[0m         )\n\u001b[0;32m-> 6878\u001b[0;31m         \u001b[0;32mreturn\u001b[0m \u001b[0mop\u001b[0m\u001b[0;34m.\u001b[0m\u001b[0mget_result\u001b[0m\u001b[0;34m(\u001b[0m\u001b[0;34m)\u001b[0m\u001b[0;34m\u001b[0m\u001b[0;34m\u001b[0m\u001b[0m\n\u001b[0m\u001b[1;32m   6879\u001b[0m \u001b[0;34m\u001b[0m\u001b[0m\n\u001b[1;32m   6880\u001b[0m     \u001b[0;32mdef\u001b[0m \u001b[0mapplymap\u001b[0m\u001b[0;34m(\u001b[0m\u001b[0mself\u001b[0m\u001b[0;34m,\u001b[0m \u001b[0mfunc\u001b[0m\u001b[0;34m)\u001b[0m \u001b[0;34m->\u001b[0m \u001b[0;34m\"DataFrame\"\u001b[0m\u001b[0;34m:\u001b[0m\u001b[0;34m\u001b[0m\u001b[0;34m\u001b[0m\u001b[0m\n",
      "\u001b[0;32m~/.local/lib/python3.6/site-packages/pandas/core/apply.py\u001b[0m in \u001b[0;36mget_result\u001b[0;34m(self)\u001b[0m\n\u001b[1;32m    184\u001b[0m             \u001b[0;32mreturn\u001b[0m \u001b[0mself\u001b[0m\u001b[0;34m.\u001b[0m\u001b[0mapply_raw\u001b[0m\u001b[0;34m(\u001b[0m\u001b[0;34m)\u001b[0m\u001b[0;34m\u001b[0m\u001b[0;34m\u001b[0m\u001b[0m\n\u001b[1;32m    185\u001b[0m \u001b[0;34m\u001b[0m\u001b[0m\n\u001b[0;32m--> 186\u001b[0;31m         \u001b[0;32mreturn\u001b[0m \u001b[0mself\u001b[0m\u001b[0;34m.\u001b[0m\u001b[0mapply_standard\u001b[0m\u001b[0;34m(\u001b[0m\u001b[0;34m)\u001b[0m\u001b[0;34m\u001b[0m\u001b[0;34m\u001b[0m\u001b[0m\n\u001b[0m\u001b[1;32m    187\u001b[0m \u001b[0;34m\u001b[0m\u001b[0m\n\u001b[1;32m    188\u001b[0m     \u001b[0;32mdef\u001b[0m \u001b[0mapply_empty_result\u001b[0m\u001b[0;34m(\u001b[0m\u001b[0mself\u001b[0m\u001b[0;34m)\u001b[0m\u001b[0;34m:\u001b[0m\u001b[0;34m\u001b[0m\u001b[0;34m\u001b[0m\u001b[0m\n",
      "\u001b[0;32m~/.local/lib/python3.6/site-packages/pandas/core/apply.py\u001b[0m in \u001b[0;36mapply_standard\u001b[0;34m(self)\u001b[0m\n\u001b[1;32m    294\u001b[0m             \u001b[0;32mtry\u001b[0m\u001b[0;34m:\u001b[0m\u001b[0;34m\u001b[0m\u001b[0;34m\u001b[0m\u001b[0m\n\u001b[1;32m    295\u001b[0m                 result = libreduction.compute_reduction(\n\u001b[0;32m--> 296\u001b[0;31m                     \u001b[0mvalues\u001b[0m\u001b[0;34m,\u001b[0m \u001b[0mself\u001b[0m\u001b[0;34m.\u001b[0m\u001b[0mf\u001b[0m\u001b[0;34m,\u001b[0m \u001b[0maxis\u001b[0m\u001b[0;34m=\u001b[0m\u001b[0mself\u001b[0m\u001b[0;34m.\u001b[0m\u001b[0maxis\u001b[0m\u001b[0;34m,\u001b[0m \u001b[0mdummy\u001b[0m\u001b[0;34m=\u001b[0m\u001b[0mdummy\u001b[0m\u001b[0;34m,\u001b[0m \u001b[0mlabels\u001b[0m\u001b[0;34m=\u001b[0m\u001b[0mlabels\u001b[0m\u001b[0;34m\u001b[0m\u001b[0;34m\u001b[0m\u001b[0m\n\u001b[0m\u001b[1;32m    297\u001b[0m                 )\n\u001b[1;32m    298\u001b[0m             \u001b[0;32mexcept\u001b[0m \u001b[0mValueError\u001b[0m \u001b[0;32mas\u001b[0m \u001b[0merr\u001b[0m\u001b[0;34m:\u001b[0m\u001b[0;34m\u001b[0m\u001b[0;34m\u001b[0m\u001b[0m\n",
      "\u001b[0;32mpandas/_libs/reduction.pyx\u001b[0m in \u001b[0;36mpandas._libs.reduction.compute_reduction\u001b[0;34m()\u001b[0m\n",
      "\u001b[0;32mpandas/_libs/reduction.pyx\u001b[0m in \u001b[0;36mpandas._libs.reduction.Reducer.get_result\u001b[0;34m()\u001b[0m\n",
      "\u001b[0;32m~/.local/lib/python3.6/site-packages/pandas/core/apply.py\u001b[0m in \u001b[0;36mf\u001b[0;34m(x)\u001b[0m\n\u001b[1;32m    111\u001b[0m \u001b[0;34m\u001b[0m\u001b[0m\n\u001b[1;32m    112\u001b[0m             \u001b[0;32mdef\u001b[0m \u001b[0mf\u001b[0m\u001b[0;34m(\u001b[0m\u001b[0mx\u001b[0m\u001b[0;34m)\u001b[0m\u001b[0;34m:\u001b[0m\u001b[0;34m\u001b[0m\u001b[0;34m\u001b[0m\u001b[0m\n\u001b[0;32m--> 113\u001b[0;31m                 \u001b[0;32mreturn\u001b[0m \u001b[0mfunc\u001b[0m\u001b[0;34m(\u001b[0m\u001b[0mx\u001b[0m\u001b[0;34m,\u001b[0m \u001b[0;34m*\u001b[0m\u001b[0margs\u001b[0m\u001b[0;34m,\u001b[0m \u001b[0;34m**\u001b[0m\u001b[0mkwds\u001b[0m\u001b[0;34m)\u001b[0m\u001b[0;34m\u001b[0m\u001b[0;34m\u001b[0m\u001b[0m\n\u001b[0m\u001b[1;32m    114\u001b[0m \u001b[0;34m\u001b[0m\u001b[0m\n\u001b[1;32m    115\u001b[0m         \u001b[0;32melse\u001b[0m\u001b[0;34m:\u001b[0m\u001b[0;34m\u001b[0m\u001b[0;34m\u001b[0m\u001b[0m\n",
      "\u001b[0;32m<ipython-input-189-6d390bb97cac>\u001b[0m in \u001b[0;36mcalculate_contacts\u001b[0;34m(polygon, points, date)\u001b[0m\n\u001b[1;32m      1\u001b[0m \u001b[0;32mdef\u001b[0m \u001b[0mcalculate_contacts\u001b[0m\u001b[0;34m(\u001b[0m\u001b[0mpolygon\u001b[0m\u001b[0;34m,\u001b[0m \u001b[0mpoints\u001b[0m\u001b[0;34m,\u001b[0m \u001b[0mdate\u001b[0m\u001b[0;34m)\u001b[0m\u001b[0;34m:\u001b[0m\u001b[0;34m\u001b[0m\u001b[0;34m\u001b[0m\u001b[0m\n\u001b[1;32m      2\u001b[0m \u001b[0;34m\u001b[0m\u001b[0m\n\u001b[0;32m----> 3\u001b[0;31m     \u001b[0m_people\u001b[0m \u001b[0;34m=\u001b[0m \u001b[0mpoints\u001b[0m\u001b[0;34m[\u001b[0m\u001b[0mpoints\u001b[0m\u001b[0;34m.\u001b[0m\u001b[0mgeometry\u001b[0m\u001b[0;34m.\u001b[0m\u001b[0mcentroid\u001b[0m\u001b[0;34m.\u001b[0m\u001b[0mwithin\u001b[0m\u001b[0;34m(\u001b[0m\u001b[0mpolygon\u001b[0m\u001b[0;34m.\u001b[0m\u001b[0mgeometry\u001b[0m\u001b[0;34m.\u001b[0m\u001b[0mbuffer\u001b[0m\u001b[0;34m(\u001b[0m\u001b[0;36m100\u001b[0m\u001b[0;34m)\u001b[0m\u001b[0;34m)\u001b[0m\u001b[0;34m]\u001b[0m\u001b[0;34m\u001b[0m\u001b[0;34m\u001b[0m\u001b[0m\n\u001b[0m\u001b[1;32m      4\u001b[0m \u001b[0;31m#     print(len(_people))\u001b[0m\u001b[0;34m\u001b[0m\u001b[0;34m\u001b[0m\u001b[0;34m\u001b[0m\u001b[0m\n\u001b[1;32m      5\u001b[0m     data = {\n",
      "\u001b[0;32m~/.local/lib/python3.6/site-packages/pandas/core/generic.py\u001b[0m in \u001b[0;36m__getattr__\u001b[0;34m(self, name)\u001b[0m\n\u001b[1;32m   5272\u001b[0m             \u001b[0;32mif\u001b[0m \u001b[0mself\u001b[0m\u001b[0;34m.\u001b[0m\u001b[0m_info_axis\u001b[0m\u001b[0;34m.\u001b[0m\u001b[0m_can_hold_identifiers_and_holds_name\u001b[0m\u001b[0;34m(\u001b[0m\u001b[0mname\u001b[0m\u001b[0;34m)\u001b[0m\u001b[0;34m:\u001b[0m\u001b[0;34m\u001b[0m\u001b[0;34m\u001b[0m\u001b[0m\n\u001b[1;32m   5273\u001b[0m                 \u001b[0;32mreturn\u001b[0m \u001b[0mself\u001b[0m\u001b[0;34m[\u001b[0m\u001b[0mname\u001b[0m\u001b[0;34m]\u001b[0m\u001b[0;34m\u001b[0m\u001b[0;34m\u001b[0m\u001b[0m\n\u001b[0;32m-> 5274\u001b[0;31m             \u001b[0;32mreturn\u001b[0m \u001b[0mobject\u001b[0m\u001b[0;34m.\u001b[0m\u001b[0m__getattribute__\u001b[0m\u001b[0;34m(\u001b[0m\u001b[0mself\u001b[0m\u001b[0;34m,\u001b[0m \u001b[0mname\u001b[0m\u001b[0;34m)\u001b[0m\u001b[0;34m\u001b[0m\u001b[0;34m\u001b[0m\u001b[0m\n\u001b[0m\u001b[1;32m   5275\u001b[0m \u001b[0;34m\u001b[0m\u001b[0m\n\u001b[1;32m   5276\u001b[0m     \u001b[0;32mdef\u001b[0m \u001b[0m__setattr__\u001b[0m\u001b[0;34m(\u001b[0m\u001b[0mself\u001b[0m\u001b[0;34m,\u001b[0m \u001b[0mname\u001b[0m\u001b[0;34m:\u001b[0m \u001b[0mstr\u001b[0m\u001b[0;34m,\u001b[0m \u001b[0mvalue\u001b[0m\u001b[0;34m)\u001b[0m \u001b[0;34m->\u001b[0m \u001b[0;32mNone\u001b[0m\u001b[0;34m:\u001b[0m\u001b[0;34m\u001b[0m\u001b[0;34m\u001b[0m\u001b[0m\n",
      "\u001b[0;31mAttributeError\u001b[0m: 'DataFrame' object has no attribute 'geometry'"
     ]
    }
   ],
   "source": [
    "def calculate_contacts(polygon, points, date):\n",
    "    \n",
    "    _people = points[points.geometry.centroid.within(polygon.geometry.buffer(100))]\n",
    "#     print(len(_people))\n",
    "    data = {\n",
    "        'date': np.repeat(date, len(_people)),\n",
    "        'patient1': np.repeat(polygon['patient'], len(_people)),\n",
    "        'patient2': list(_people['patient'])\n",
    "    }\n",
    "    \n",
    "    exposure_df = pd.DataFrame(data=data, columns = [\"date\", \"patient1\", \"patient2\"])\n",
    "    return exposure_df\n",
    "\n",
    "def calculate_daily_contacts(people_proj, sim, load_from_csv=False):\n",
    "    \n",
    "    if load_from_csv:\n",
    "        return pd.read_csv(\"improved_daily_contacts.csv\")\n",
    "    \n",
    "    start = timer()\n",
    "\n",
    "    # calculate daily contacts for day 1 as they will be repeated for the other days\n",
    "    date = sim[\"dates\"][\"date\"][0]\n",
    "    daily_contacts = people_proj.swifter.apply(calculate_contacts, axis=1, args=[people_proj, date])\n",
    "\n",
    "    original_daily_contacts = pd.concat(list(daily_contacts), sort=False)\n",
    "    original_daily_contacts.reset_index(drop=True, inplace=True)\n",
    "\n",
    "    # calculate the table for all the dates\n",
    "    improved_daily_contacts = original_daily_contacts.copy()\n",
    "    for date in sim[\"dates\"][\"date\"]:\n",
    "        if len(original_daily_contacts[original_daily_contacts['date'] == date]) < 1:\n",
    "            new_df = original_daily_contacts.copy()\n",
    "            new_df['date'] = date\n",
    "            improved_daily_contacts = improved_daily_contacts.append(new_df)\n",
    "\n",
    "    improved_daily_contacts.reset_index(drop=True, inplace=True)\n",
    "\n",
    "    end = timer()\n",
    "    print(\"Compute time:\",end-start)\n",
    "    \n",
    "    return improved_daily_contacts\n",
    "\n",
    "full_daily_contacts = calculate_daily_contacts(large_people_df, sim_full, load_from_csv=False)\n",
    "sim_full[\"contacts\"] = full_daily_contacts\n",
    "sim_full[\"N_c\"] = contacts.calculate_Nc(sim_full)\n",
    "print(\"Average daily contacts: {}\".format(sim_full[\"N_c\"]))"
   ]
  },
  {
   "cell_type": "code",
   "execution_count": 86,
   "metadata": {},
   "outputs": [
    {
     "name": "stdout",
     "output_type": "stream",
     "text": [
      "          Unnamed: 0  date  patient1  patient2\n",
      "0                  0     0         0         0\n",
      "1                  1     0         0        15\n",
      "2                  2     0         0      1479\n",
      "3                  3     0         0      1480\n",
      "4                  4     0         1         1\n",
      "...              ...   ...       ...       ...\n",
      "98415995    98415995   999      5963      5959\n",
      "98415996    98415996   999      5963      5960\n",
      "98415997    98415997   999      5963      5961\n",
      "98415998    98415998   999      5963      5962\n",
      "98415999    98415999   999      5963      5963\n",
      "\n",
      "[98416000 rows x 4 columns]\n"
     ]
    }
   ],
   "source": [
    "print(full_daily_contacts)"
   ]
  },
  {
   "cell_type": "code",
   "execution_count": 90,
   "metadata": {},
   "outputs": [
    {
     "name": "stdout",
     "output_type": "stream",
     "text": [
      "Calculating states...\n",
      "t = 0; 456 infectious; 0 exposed; 551560 susceptible; 0 dead\n",
      "t = 9; 134 infectious; 0 exposed; 551560 susceptible; 1 dead\n",
      "t = 18; 30 infectious; 0 exposed; 551560 susceptible; 2 dead\n",
      "t = 27; 7 infectious; 0 exposed; 551560 susceptible; 2 dead\n",
      "t = 36; 1 infectious; 0 exposed; 551560 susceptible; 3 dead\n",
      "t = 45; 0 infectious; 0 exposed; 551560 susceptible; 4 dead\n",
      "t = 54; 0 infectious; 0 exposed; 551560 susceptible; 4 dead\n",
      "t = 63; 0 infectious; 0 exposed; 551560 susceptible; 4 dead\n",
      "t = 72; 0 infectious; 0 exposed; 551560 susceptible; 4 dead\n",
      "t = 81; 0 infectious; 0 exposed; 551560 susceptible; 4 dead\n",
      "Calculated states in 505.66 seconds.\n"
     ]
    }
   ],
   "source": [
    "sim_results = run_sim(sim_full, N_infected=0, infected = infected_ids)"
   ]
  },
  {
   "cell_type": "code",
   "execution_count": null,
   "metadata": {},
   "outputs": [],
   "source": []
  }
 ],
 "metadata": {
  "kernelspec": {
   "display_name": "Python 3",
   "language": "python",
   "name": "python3"
  },
  "language_info": {
   "codemirror_mode": {
    "name": "ipython",
    "version": 3
   },
   "file_extension": ".py",
   "mimetype": "text/x-python",
   "name": "python",
   "nbconvert_exporter": "python",
   "pygments_lexer": "ipython3",
   "version": "3.6.9"
  }
 },
 "nbformat": 4,
 "nbformat_minor": 4
}
