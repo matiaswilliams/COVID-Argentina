{
 "cells": [
  {
   "cell_type": "markdown",
   "metadata": {},
   "source": [
    "# Simulation notebook - Colombia data\n",
    "\n",
    "This notebook generates a people dataframe with 500k+ people from the manzanas data, and runs the HMM-based simualtion with fixed transitions over them."
   ]
  },
  {
   "cell_type": "code",
   "execution_count": 1,
   "metadata": {},
   "outputs": [],
   "source": [
    "## General Imports\n",
    "import sys\n",
    "import os\n",
    "import geopandas as gpd\n",
    "import pandas as pd\n",
    "import numpy as np\n",
    "import scipy\n",
    "from IPython.display import display\n",
    "from timeit import default_timer as timer\n",
    "import swifter\n",
    "from tqdm.notebook import tqdm\n",
    "import dask.dataframe as dd\n",
    "from dask.multiprocessing import get\n",
    "from shapely.ops import nearest_points\n",
    "from shapely import wkt\n",
    "\n",
    "%load_ext autoreload\n",
    "%autoreload 2\n",
    "\n",
    "\n",
    "# Project Imports\n",
    "sys.path.append(\"../..\")\n",
    "import model \n",
    "from model.sim import location, state, contacts\n",
    "from colombia_utils import *\n",
    "\n",
    "\n",
    "## Constants\n",
    "shp_path = '../../../shp' # Change to your local shape file directory"
   ]
  },
  {
   "cell_type": "markdown",
   "metadata": {},
   "source": [
    "## Print info on manzana data"
   ]
  },
  {
   "cell_type": "code",
   "execution_count": 2,
   "metadata": {},
   "outputs": [
    {
     "name": "stdout",
     "output_type": "stream",
     "text": [
      "Average number of people in mnz: 89.66901408450704\n",
      "Number of manzanas: 5964\n",
      "Total number of people: 534786\n"
     ]
    }
   ],
   "source": [
    "mnz_data = gpd.read_file(os.path.join(shp_path,\"Censo_personas_manzanas_2018.shp\"))\n",
    "mnz_data = mnz_data.to_crs({\"init\": \"EPSG:3857\"})\n",
    "print(\"Average number of people in mnz:\", mnz_data['SEXO_TOTAL'].mean())\n",
    "print(\"Number of manzanas:\", len(mnz_data))\n",
    "print(\"Total number of people:\", mnz_data['SEXO_TOTAL'].sum())"
   ]
  },
  {
   "cell_type": "markdown",
   "metadata": {},
   "source": [
    "# Function to calculate daily contacts\n",
    "Unused"
   ]
  },
  {
   "cell_type": "code",
   "execution_count": 3,
   "metadata": {},
   "outputs": [],
   "source": [
    "def calculate_daily_contacts(people_proj, sim, load_from_csv=True):\n",
    "    \n",
    "    if load_from_csv:\n",
    "        return pd.read_csv(\"improved_daily_contacts.csv\")\n",
    "    \n",
    "    start = timer()\n",
    "\n",
    "    # calculate daily contacts for day 1 as they will be repeated for the other days\n",
    "    date = sim[\"dates\"][\"date\"][0]\n",
    "    daily_contacts = people_proj.apply(calculate_contacts, axis=1, args=[people_proj, date])\n",
    "\n",
    "    original_daily_contacts = pd.concat(list(daily_contacts), sort=False)\n",
    "    original_daily_contacts.reset_index(drop=True, inplace=True)\n",
    "\n",
    "    # calculate the table for all the dates\n",
    "    improved_daily_contacts = original_daily_contacts.copy()\n",
    "    for date in sim[\"dates\"][\"date\"]:\n",
    "        if len(original_daily_contacts[original_daily_contacts['date'] == date]) < 1:\n",
    "            new_df = original_daily_contacts.copy()\n",
    "            new_df['date'] = date\n",
    "            improved_daily_contacts = improved_daily_contacts.append(new_df)\n",
    "\n",
    "    improved_daily_contacts.reset_index(drop=True, inplace=True)\n",
    "\n",
    "    end = timer()\n",
    "    print(\"Compute time:\",end-start)\n",
    "    \n",
    "    return improved_daily_contacts\n",
    "\n",
    "# improved_daily_contacts = calculate_daily_contacts(people_proj, sim)\n",
    "# sim[\"contacts\"] = improved_daily_contacts\n",
    "# sim[\"N_c\"] = contacts.calculate_Nc(sim)\n",
    "# print(\"Average daily contacts: {}\".format(sim[\"N_c\"]))"
   ]
  },
  {
   "cell_type": "code",
   "execution_count": 4,
   "metadata": {},
   "outputs": [],
   "source": [
    "# print(improved_daily_contacts[\"date\"].max())"
   ]
  },
  {
   "cell_type": "code",
   "execution_count": 5,
   "metadata": {},
   "outputs": [],
   "source": [
    "# save=False\n",
    "# if save:   \n",
    "#     improved_daily_contacts.to_csv(\"improved_daily_contacts.csv\")"
   ]
  },
  {
   "cell_type": "code",
   "execution_count": 6,
   "metadata": {},
   "outputs": [],
   "source": [
    "# gdf = gpd.GeoDataFrame(\n",
    "#     df,\n",
    "#     geometry=gpd.points_from_xy(\n",
    "#         df[\"longitude\"],\n",
    "#         df[\"latitude\"],\n",
    "#     ),\n",
    "#     crs={\"init\":\"EPSG:4326\"},\n",
    "# )\n",
    "\n",
    "# # 10 records\n",
    "# filtered_df\n",
    "\n",
    "# filtered_gdf = gpd.GeoDataFrame(\n",
    "#     filtered_df, \n",
    "#     geometry=gpd.points_from_xy(\n",
    "#         filtered_df[\"longitude\"],\n",
    "#         filtered_df[\"latitude\"],\n",
    "#     ),\n",
    "#     crs={\"init\":\"EPSG:4326\"},\n",
    "# )\n",
    "\n",
    "# # EPSG:3857 converts it to meters, correct?\n",
    "\n",
    "# gdf_proj = gdf.to_crs({\"init\": \"EPSG:3857\"})\n",
    "# filtered_gdf_proj = filtered_gdf.to_crs({\"init\": \"EPSG:3857\"})\n",
    "\n",
    "# # so 100 miles would be 160934 meters\n",
    "\n",
    "# x = filtered_gdf_proj.buffer(100).unary_union\n",
    "\n",
    "# neighbours = gdf_proj[\"geometry\"].intersection(x)"
   ]
  },
  {
   "cell_type": "markdown",
   "metadata": {},
   "source": [
    "# Create people dataframe"
   ]
  },
  {
   "cell_type": "code",
   "execution_count": 7,
   "metadata": {
    "scrolled": true
   },
   "outputs": [
    {
     "name": "stderr",
     "output_type": "stream",
     "text": [
      "/home/camilo/.local/lib/python3.6/site-packages/ipykernel_launcher.py:9: TqdmDeprecationWarning: This function will be removed in tqdm==5.0.0\n",
      "Please use `tqdm.notebook.tqdm` instead of `tqdm.tqdm_notebook`\n",
      "  if __name__ == '__main__':\n"
     ]
    },
    {
     "data": {
      "application/vnd.jupyter.widget-view+json": {
       "model_id": "41b4135b19d7482d952845e6db62d125",
       "version_major": 2,
       "version_minor": 0
      },
      "text/plain": [
       "HBox(children=(FloatProgress(value=1.0, bar_style='info', max=1.0), HTML(value='')))"
      ]
     },
     "metadata": {},
     "output_type": "display_data"
    },
    {
     "name": "stdout",
     "output_type": "stream",
     "text": [
      "\n",
      "Final shape of people_df: (534786, 2)\n"
     ]
    }
   ],
   "source": [
    "# Build people_full dataframe containing census data, infected data + estimated people from neighborhood data\n",
    "\n",
    "def create_people_df_from_mnz_data(mnz_data, create_contacts=True):\n",
    "\n",
    "#     people_df = pd.DataFrame()\n",
    "    contacts_df_list = []\n",
    "    i = 0\n",
    "    first_pass = True\n",
    "    for idx, row in tqdm(mnz_data.iterrows()):\n",
    "        n_ppl_in_mnz = row[\"SEXO_TOTAL\"]\n",
    "        if not n_ppl_in_mnz:\n",
    "            continue\n",
    "        \n",
    "#         print(\"row.geometry.centroid\",row.geometry.centroid)\n",
    "#         dummy_row.geometry = row.geometry\n",
    "        person_row = pd.DataFrame({\"patient\": [0], \"position\": [row.geometry.centroid]})\n",
    "        \n",
    "#         dummy_row[\"calculated_centroid\"] = row.geometry.centroid\n",
    "#         print(dummy_row.columns)\n",
    "        ppl_in_mnz = pd.concat([person_row]*n_ppl_in_mnz)\n",
    "        ids = np.arange(i, i+n_ppl_in_mnz)\n",
    "        ppl_in_mnz.patient = ids\n",
    "        i+=n_ppl_in_mnz\n",
    "        if first_pass:\n",
    "            people_df = ppl_in_mnz\n",
    "            first_pass = False\n",
    "        else:\n",
    "            people_df = people_df.append(ppl_in_mnz, ignore_index=True)\n",
    "            \n",
    "        \n",
    "        if create_contacts:\n",
    "            for date in range(90):\n",
    "                for id_ in ids:\n",
    "                    data = {\n",
    "                            'date': np.repeat(date, n_ppl_in_mnz),\n",
    "                            'patient1': np.repeat(id_, n_ppl_in_mnz),\n",
    "                            'patient2': ids\n",
    "                        }\n",
    "                    patient_contact = pd.DataFrame(data=data, columns = [\"date\", \"patient1\", \"patient2\"])\n",
    "                    csv_name = \"contacts/contacts_patient%d_date%d.csv\" % (id_, date)\n",
    "                    if not os.path.exists(csv_name):\n",
    "                        patient_contact.to_csv(csv_name)\n",
    "#                     contacts_df_list.append(pd.DataFrame(data=data, columns = [\"date\", \"patient1\", \"patient2\"]))    \n",
    "    print(\"Final shape of people_df:\",people_df.shape)\n",
    "    if create_contacts:\n",
    "        contacts_df = pd.concat(contacts_df_list, sort=False)\n",
    "        contacts_df.reset_index(drop=True, inplace=True)\n",
    "        return people_df, contacts_df\n",
    "    else:\n",
    "        return people_df, None\n",
    "    \n",
    "    \n",
    "\n",
    "\n",
    "large_people_df, large_contacts_df = create_people_df_from_mnz_data(mnz_data, \n",
    "                                                                    create_contacts=False)"
   ]
  },
  {
   "cell_type": "code",
   "execution_count": 8,
   "metadata": {},
   "outputs": [
    {
     "name": "stdout",
     "output_type": "stream",
     "text": [
      "Number of people before adding infected: 534786\n"
     ]
    }
   ],
   "source": [
    "print(\"Number of people before adding infected:\",len(large_people_df))"
   ]
  },
  {
   "cell_type": "code",
   "execution_count": 9,
   "metadata": {},
   "outputs": [
    {
     "name": "stdout",
     "output_type": "stream",
     "text": [
      "Loaded people df with shape: (534786, 2)\n",
      "Columns in people df: Index(['patient', 'position'], dtype='object')\n"
     ]
    }
   ],
   "source": [
    "load_people_df=False\n",
    "if load_people_df:\n",
    "    large_people_df = pd.read_csv(\"people_df_from_manzanas.csv\")\n",
    "    \n",
    "print(\"Loaded people df with shape:\", large_people_df.shape)\n",
    "print(\"Columns in people df:\", large_people_df.columns)"
   ]
  },
  {
   "cell_type": "code",
   "execution_count": 10,
   "metadata": {},
   "outputs": [],
   "source": [
    "save_people_df=False\n",
    "if save_people_df:\n",
    "    large_people_df.to_csv(\"people_df_from_manzanas.csv\")"
   ]
  },
  {
   "cell_type": "code",
   "execution_count": 11,
   "metadata": {},
   "outputs": [],
   "source": [
    "# print(\"Shape of contacts df (should be people_df*90*avg_n_contacts)\", contacts_df.shape)\n",
    "# contacts_df.iloc[3]"
   ]
  },
  {
   "cell_type": "markdown",
   "metadata": {},
   "source": [
    "# Extrapolate contacts (DEPRECATED)"
   ]
  },
  {
   "cell_type": "code",
   "execution_count": 12,
   "metadata": {},
   "outputs": [],
   "source": [
    "\n",
    "# def nearest(row, geom_union, df1, df2, geom1_col='geometry', geom2_col='geometry', src_column=None):\n",
    "#     \"\"\"Find the nearest point and return the corresponding value from specified column.\"\"\"\n",
    "#     # Find the geometry that is closest\n",
    "#     nearest = df2[geom2_col] == nearest_points(row[geom1_col], geom_union)[1]\n",
    "#     # Get the corresponding value from df2 (matching is based on the geometry)\n",
    "#     value = df2[nearest][src_column].get_values()[0]\n",
    "#     return value\n",
    "\n",
    "# def nearest(point, people_df):\n",
    "#     people_locs = people_df.geometry.centroid.unary_union\n",
    "    \n",
    "# #     print(\"Trying to find nearest point to %s\" % point)\n",
    "# #     print(\"Candidates are:\", people_locs[:5], \"and more (%d total)\" % len(people_locs)) # \"with ids:\", people_df[\"patient\"][:5]\n",
    "    \n",
    "#     # find the nearest person for which we have data\n",
    "# #     print(\"people_df.geometry.centroid\", people_df.geometry.centroid)\n",
    "# #     print(\"nearest_points(point, people_locs)\", nearest_points(point, people_locs))\n",
    "#     nearest = people_df.geometry.centroid == nearest_points(point, people_locs)[1]\n",
    "# #     print(nearest)\n",
    "    \n",
    "#     return people_df[nearest]\n",
    "\n",
    "# def calculate_contacts(polygon, points, date):\n",
    "#     _people = points[points.geometry.centroid.within(polygon.geometry.buffer(100))]\n",
    "#     data = {\n",
    "#         'date': np.repeat(date, len(_people)),\n",
    "#         'patient1': np.repeat(polygon['patient'], len(_people)),\n",
    "#         'patient2': list(_people['patient'])\n",
    "#     }\n",
    "    \n",
    "#     exposure_df = pd.DataFrame(data=data, columns = [\"date\", \"patient1\", \"patient2\"])\n",
    "#     return exposure_df\n",
    "\n",
    "# def contacts_from_closest_person(row, people, contacts):\n",
    "#     print(\"\\nGetting contacts for person\", row[\"patient\"])\n",
    "#     nearest_person = nearest(row.calculated_centroid, people)\n",
    "#     contact_df = contacts[contacts['patient1']==nearest_person[\"patient\"].iloc[0]]\n",
    "#     contact_df.patient1 = row[\"patient\"]\n",
    "# #     print(contact_df)\n",
    "#     print(\"Found nearest person. ID: %s. Centroid: %s. Barrio: %s. Contacts: %d\" % (nearest_person[\"patient\"], nearest_person.geometry.centroid,\n",
    "#                                                                                    nearest_person.BARRIO, len(contact_df))) \n",
    "    \n",
    "#     return contact_df\n",
    "\n",
    "# def contacts_from_neigh(row, people, contacts):\n",
    "    \n",
    "#     contacts_for_this_id = neigh2contacts[row[\"\"]]\n",
    "#     return contacts\n",
    "\n",
    "# def dummy_contacts(row, people, contacts):\n",
    "#     contact_df = contacts.iloc[:30]\n",
    "#     contact_df.patient1 = row[\"patient\"]\n",
    "#     data = {\n",
    "#         'date': contact_df[\"date\"].to_numpy(),\n",
    "#         'patient1': contact_df[\"patient1\"].to_numpy(),\n",
    "#         'patient2':  contact_df[\"patient2\"].to_numpy()\n",
    "#     }\n",
    "#     contact_df = pd.DataFrame(data=data, columns = [\"date\", \"patient1\", \"patient2\"])\n",
    "#     return contact_df\n",
    "    \n",
    "# def extrapolate_contacts(contacts, people, full_people):\n",
    "#     print(\"Extrapolating contacts for full dataframe of length %d from small dataframe of length %d\" % (len(full_people), len(people)))\n",
    "# #     extrapolated_contacts = full_people.apply(contacts_from_closest_person, axis=1, args=[people, contacts])\n",
    "#     ddata = dd.from_pandas(full_people, npartitions=100)\n",
    "#     extrapolated_contacts = ddata.map_partitions(lambda df: df.apply(calculate_contacts, axis=1, args=[people, date])).compute(get=get) \n",
    "#     return extrapolated_contacts\n",
    "    "
   ]
  },
  {
   "cell_type": "code",
   "execution_count": 13,
   "metadata": {},
   "outputs": [],
   "source": [
    "# print(improved_daily_contacts.columns)\n",
    "# extrapolated_contacts = extrapolate_contacts(improved_daily_contacts, people_proj, large_people_df)"
   ]
  },
  {
   "cell_type": "code",
   "execution_count": 14,
   "metadata": {},
   "outputs": [],
   "source": [
    "# print(\"shape extrapolated contacts:\", extrapolated_contacts.shape)"
   ]
  },
  {
   "cell_type": "code",
   "execution_count": 139,
   "metadata": {},
   "outputs": [],
   "source": [
    "# save=True\n",
    "# if save:\n",
    "#     extrapolated_contacts.to_csv(\"extrapolated_contacts.csv\")\n",
    "    \n",
    "# load=False\n",
    "# if load:\n",
    "#     extrapolated_contacts = pd.read_csv(\"extrapolated_contacts.csv\")"
   ]
  },
  {
   "cell_type": "markdown",
   "metadata": {},
   "source": [
    "## Get mnz2id dictionaries"
   ]
  },
  {
   "cell_type": "code",
   "execution_count": 197,
   "metadata": {},
   "outputs": [
    {
     "data": {
      "application/vnd.jupyter.widget-view+json": {
       "model_id": "6abfc88a8895456e9577b5064664a0ef",
       "version_major": 2,
       "version_minor": 0
      },
      "text/plain": [
       "HBox(children=(FloatProgress(value=1.0, bar_style='info', max=1.0), HTML(value='')))"
      ]
     },
     "metadata": {},
     "output_type": "display_data"
    },
    {
     "name": "stdout",
     "output_type": "stream",
     "text": [
      "\n"
     ]
    },
    {
     "data": {
      "application/vnd.jupyter.widget-view+json": {
       "model_id": "8d011cd1080843ca9c57098b128c85c5",
       "version_major": 2,
       "version_minor": 0
      },
      "text/plain": [
       "HBox(children=(FloatProgress(value=0.0, max=5964.0), HTML(value='')))"
      ]
     },
     "metadata": {},
     "output_type": "display_data"
    },
    {
     "name": "stdout",
     "output_type": "stream",
     "text": [
      "\n"
     ]
    }
   ],
   "source": [
    "mnz2ids = get_mnz2ids(mnz_data)\n",
    "id2mnz = get_id2mnz(mnz2ids)"
   ]
  },
  {
   "cell_type": "code",
   "execution_count": 198,
   "metadata": {},
   "outputs": [],
   "source": [
    "# print(len(mnz2ids.keys()))\n",
    "# s=0\n",
    "# for k,v in mnz2ids.items():\n",
    "#     s += len(v)\n",
    "    \n",
    "# print(s)\n",
    "\n",
    "\n",
    "# c=0\n",
    "# for idx, row in tqdm(mnz_data.iterrows()):\n",
    "#     n_ppl_in_mnz = row[\"SEXO_TOTAL\"]\n",
    "#     print()\n",
    "#     print(n_ppl_in_mnz)\n",
    "#     print(len(mnz2ids[idx]))\n",
    "# #     i += n_ppl_in_mnz\n",
    "#     c+=1\n",
    "#     if c> 10: break"
   ]
  },
  {
   "cell_type": "markdown",
   "metadata": {},
   "source": [
    "# Get list of infected\n",
    "\n",
    "Some of the infected have an address that is in none of the manzanas"
   ]
  },
  {
   "cell_type": "code",
   "execution_count": 199,
   "metadata": {},
   "outputs": [],
   "source": [
    "\n",
    "def include_infected_to_people_df(people_df, \n",
    "                                 mnz2ids, \n",
    "                                 id2mnz,\n",
    "                                 path_to_infected_file=os.path.join(shp_path,\"POSITIVOS_COVID_19.shp\"), \n",
    "                                 T=90):\n",
    "    \n",
    "    infected = gpd.read_file(path_to_infected_file)\n",
    "    inf_active = infected[infected[\"estado_ate\"]==1]\n",
    "    \n",
    "\n",
    "    print(\"Loaded %d infected rows\" % len(inf_active))\n",
    "    print(\"people_df.shape before infected concat\", people_df.shape)\n",
    "    max_id = people_df.patient.max()\n",
    "    assert(max_id == max(id2mnz.keys()))\n",
    "    infected_ids = np.arange(len(inf_active))+max_id+1\n",
    "\n",
    "    infected_of_interest = []\n",
    "    \n",
    "    # Find mnz corresponding to each infected\n",
    "    c=0\n",
    "    for i, mnz in tqdm(mnz_data.iterrows()):\n",
    "#         print(\"\\nsearching if any infected in mnz %d\" % i)\n",
    "        infected_ids_in_mnz = infected_ids[inf_active.geometry.centroid.within(mnz.geometry.buffer(100))]\n",
    "#         print(\"found %d infected in mnz\" % len(infected_ids_in_mnz), i, \"with ids: \", infected_ids_in_mnz)\n",
    "        if len(infected_ids_in_mnz)==0:\n",
    "            continue\n",
    "            \n",
    "#         print(\"adding infected ids to mnz. len mnz2ids[i] before:\", len(mnz2ids[i]))\n",
    "        mnz2ids[i] = np.concatenate([mnz2ids[i], infected_ids_in_mnz])\n",
    "#         print(\"after:\",len(mnz2ids[i]), mnz2ids[i].shape) \n",
    "#         print(\"updating id2mnz\")\n",
    "        for inf_id in infected_ids_in_mnz:\n",
    "            id2mnz[inf_id] = id2mnz.get(inf_id, [])\n",
    "            id2mnz[inf_id].append(i)\n",
    "#             print(\"id2mnz[inf_id]:\",id2mnz[inf_id])\n",
    "        \n",
    "#         print( infected_ids_in_mnz[0])\n",
    "#         if 534833 in infected_ids_in_mnz:\n",
    "#             print(\"534833 found\", infected_ids_in_mnz[0])\n",
    "#         print(\"infected_ids_in_mnz\",infected_ids_in_mnz)\n",
    "        infected_of_interest.append(infected_ids_in_mnz)\n",
    "#         c+=1\n",
    "#         if c>10:\n",
    "#             break\n",
    "\n",
    "    infected_of_interest = np.unique(np.concatenate(infected_of_interest))\n",
    "    print(\"infected_of_interest.shape\",infected_of_interest.shape)\n",
    "    people_df = pd.concat([people_df,pd.DataFrame({\"patient\":infected_of_interest, \n",
    "                                                   \"position\":inf_active.iloc[infected_of_interest-max_id-1].geometry})])\n",
    "    print(\"Concatenated infected to people_df. People_df is now of shape:\", people_df.shape)\n",
    "    print(people_df.columns)\n",
    "    \n",
    "#     latitudes = inf_active.geometry.centroid.y\n",
    "#     longitudes = inf_active.geometry.centroid.x\n",
    "#     infected_ids = np.arange(start_id, len(inf_active)+start_id)\n",
    "#     infected_locations = pd.DataFrame({\"patient\": np.tile(infected_ids, T), \n",
    "#                                        \"date\": np.tile(np.arange(T), len(inf_active)), \n",
    "#                                        \"latitude\": np.repeat(latitudes, T), \n",
    "#                                        \"longitude\": np.repeat(longitudes, T)})\n",
    "    \n",
    "#     sim[\"location\"].append(infected_locations)\n",
    "#     sim[\"patients\"] = sim[\"patients\"].append(pd.DataFrame({\"patient\": infected_ids}))\n",
    "    \n",
    "    return people_df, mnz2ids, id2mnz, infected_of_interest\n",
    "\n",
    "\n",
    "# def include_infected_to_contacts_df(sim, \n",
    "#                                     mnz_data, \n",
    "#                                     path_to_infected_file=os.path.join(shp_path,\"POSITIVOS_COVID_19.shp\"), \n",
    "#                                     T=90, \n",
    "#                                     start_id=0):\n",
    "#     contacts_df_list = []\n",
    "#     c=0\n",
    "#     for i, mnz in tqdm(mnz_data.iterrows()):\n",
    "# #         print(\"searching if any infected in mnz %d\" % i)\n",
    "#         infected_ids_in_mnz = infected_ids[inf_active.geometry.centroid.within(mnz.geometry.buffer(100))]\n",
    "# #         print(\"found %d infected in mnz\" % len(infected_ids_in_mnz))\n",
    "# #         print(infected_ids_in_mnz)\n",
    "#         if len(infected_ids_in_mnz)==0:\n",
    "#             continue\n",
    "            \n",
    "#         ids_in_mnz = mnz2ids[i]\n",
    "#         n_ppl_in_mnz = len(ids_in_mnz)\n",
    "# #         print(\"People in this mnz:\", n_ppl_in_mnz)\n",
    "        \n",
    "#         for date in range(90):\n",
    "#             for id_inf in infected_ids_in_mnz:\n",
    "#                 data = {\n",
    "#                     'date': np.repeat(date, n_ppl_in_mnz),\n",
    "#                     'patient1': np.repeat(id_inf, n_ppl_in_mnz),\n",
    "#                     'patient2': ids_in_mnz\n",
    "#                 }\n",
    "\n",
    "#                 contacts_df_list.append(pd.DataFrame(data=data, columns = [\"date\", \"patient1\", \"patient2\"]))\n",
    "                \n",
    "#         c+=1\n",
    "#         if c>100:break\n",
    "#     print(\"Number of contact dataframes (each correspond to the contacts of one infected on one date): %d\" % len(contacts_df_list))\n",
    "#     infected_contacts = pd.concat(contacts_df_list)\n",
    "#     sim[\"contacts\"].append(infected_contacts)\n",
    "    \n",
    "#     return sim, infected_ids\n"
   ]
  },
  {
   "cell_type": "code",
   "execution_count": 200,
   "metadata": {},
   "outputs": [
    {
     "name": "stdout",
     "output_type": "stream",
     "text": [
      "Loaded 456 infected rows\n",
      "people_df.shape before infected concat (534786, 2)\n"
     ]
    },
    {
     "name": "stderr",
     "output_type": "stream",
     "text": [
      "/home/camilo/.local/lib/python3.6/site-packages/ipykernel_launcher.py:21: TqdmDeprecationWarning: This function will be removed in tqdm==5.0.0\n",
      "Please use `tqdm.notebook.tqdm` instead of `tqdm.tqdm_notebook`\n"
     ]
    },
    {
     "data": {
      "application/vnd.jupyter.widget-view+json": {
       "model_id": "0be651ec6bce4b33ae173485828a022b",
       "version_major": 2,
       "version_minor": 0
      },
      "text/plain": [
       "HBox(children=(FloatProgress(value=1.0, bar_style='info', max=1.0), HTML(value='')))"
      ]
     },
     "metadata": {},
     "output_type": "display_data"
    },
    {
     "name": "stdout",
     "output_type": "stream",
     "text": [
      "\n",
      "infected_of_interest.shape (414,)\n",
      "Concatenated infected to people_df. People_df is now of shape: (535200, 2)\n",
      "Index(['patient', 'position'], dtype='object')\n"
     ]
    }
   ],
   "source": [
    "\n",
    "large_people_df_inf, mnz2ids_inf, id2mnz_inf, infected_ids = include_infected_to_people_df(large_people_df, mnz2ids, id2mnz)"
   ]
  },
  {
   "cell_type": "code",
   "execution_count": 201,
   "metadata": {},
   "outputs": [
    {
     "name": "stdout",
     "output_type": "stream",
     "text": [
      "0\n"
     ]
    }
   ],
   "source": [
    "print(sum(infected_ids==534833))"
   ]
  },
  {
   "cell_type": "code",
   "execution_count": 175,
   "metadata": {},
   "outputs": [
    {
     "name": "stdout",
     "output_type": "stream",
     "text": [
      "535241\n"
     ]
    }
   ],
   "source": [
    "print(max(id2mnz.keys()))"
   ]
  },
  {
   "cell_type": "markdown",
   "metadata": {},
   "source": [
    "# Run full simulation"
   ]
  },
  {
   "cell_type": "code",
   "execution_count": 148,
   "metadata": {},
   "outputs": [
    {
     "name": "stdout",
     "output_type": "stream",
     "text": [
      "number of people including infected: 535200\n",
      "min and max ids: 535241 0\n",
      "duplicates: Empty DataFrame\n",
      "Columns: [patient, position]\n",
      "Index: []\n"
     ]
    }
   ],
   "source": [
    "print(\"number of people including infected:\",len(large_people_df_inf))\n",
    "print(\"min and max ids:\", large_people_df_inf[\"patient\"].max(), large_people_df_inf[\"patient\"].min())\n",
    "print(\"duplicates:\", large_people_df[large_people_df[\"patient\"].duplicated()])"
   ]
  },
  {
   "cell_type": "code",
   "execution_count": 155,
   "metadata": {},
   "outputs": [
    {
     "name": "stdout",
     "output_type": "stream",
     "text": [
      "Instantiating Simulation\n",
      "535200 Empty DataFrame\n",
      "Columns: [patient, position]\n",
      "Index: []\n",
      "Simulation instantiated. Current people in simulation: 535200\n",
      "Current simulation keys: dict_keys(['map', 'location', 'patients', 'dates', 'mnz2ids', 'id2mnz'])\n",
      "Final number of people to simulate: 535200\n",
      "Average daily contacts for full df: 193.7652615844544\n"
     ]
    }
   ],
   "source": [
    "T=90\n",
    "# if load_people_df:\n",
    "# #     print(type(large_people_df[\"position\"].iloc[0]))\n",
    "#     large_people_df[\"position\"] = large_people_df[\"position\"].apply(wkt.loads)\n",
    "\n",
    "sim_full = instantiate_sim(mnz_data, large_people_df_inf, T=T, reindex=False)\n",
    "sim_full[\"mnz2ids\"] = mnz2ids_inf\n",
    "sim_full[\"id2mnz\"] = id2mnz_inf\n",
    "print(\"Simulation instantiated. Current people in simulation: %d\" % len(sim_full[\"patients\"]))\n",
    "print(\"Current simulation keys:\", sim_full.keys())\n",
    "# print(\"Adding infected\")\n",
    "# # sim_full, infected_ids = include_infected(sim_full, T=T, start_id=len(large_people_df))\n",
    "# print(\"Included %d infected\" % len(infected_ids))\n",
    "print(\"Final number of people to simulate: %d\" % len(sim_full[\"patients\"]))\n",
    "sim_full[\"N_c\"] = contacts.calculate_Nc_for_mnz_approximation(sim_full)\n",
    "print(\"Average daily contacts for full df: {}\".format(sim_full[\"N_c\"]))\n",
    "# np.savetxt('sim_states_full.csv', sim_results[\"states\"], delimiter=',')"
   ]
  },
  {
   "cell_type": "code",
   "execution_count": 202,
   "metadata": {},
   "outputs": [
    {
     "name": "stdout",
     "output_type": "stream",
     "text": [
      "Calculating states...\n",
      "t = 0; 414 infectious; 1438 exposed; 534786 susceptible; 0 dead\n",
      "t = 9; 114 infectious; 300 exposed; 534771 susceptible; 0 dead\n",
      "t = 18; 31 infectious; 1438 exposed; 534760 susceptible; 0 dead\n",
      "t = 27; 23 infectious; 111 exposed; 534734 susceptible; 0 dead\n",
      "t = 36; 16 infectious; 111 exposed; 534731 susceptible; 0 dead\n",
      "t = 45; 6 infectious; 263 exposed; 534728 susceptible; 0 dead\n",
      "t = 54; 7 infectious; 263 exposed; 534726 susceptible; 0 dead\n",
      "t = 63; 5 infectious; 263 exposed; 534721 susceptible; 0 dead\n",
      "t = 72; 4 infectious; 263 exposed; 534715 susceptible; 0 dead\n",
      "t = 81; 5 infectious; 263 exposed; 534712 susceptible; 0 dead\n",
      "Calculated states in 543.66 seconds.\n"
     ]
    }
   ],
   "source": [
    "# Run sim\n",
    "def run_sim(sim, N_infected=15, infected=None):\n",
    "    sim[\"states\"], sim[\"tests\"] = state.simulate_states(sim, N_infected=N_infected, infected=infected)\n",
    "    sim[\"hospital\"] = state.get_first_occurrence(sim[\"states\"], 6)\n",
    "    sim[\"deaths\"] = state.get_first_occurrence(sim[\"states\"], 8)\n",
    "    return sim\n",
    "\n",
    "sim_results = run_sim(sim_full, N_infected=len(infected_ids), infected = infected_ids)"
   ]
  },
  {
   "cell_type": "code",
   "execution_count": 203,
   "metadata": {},
   "outputs": [],
   "source": [
    "np.savetxt('sim_states_full2.csv', sim_results[\"states\"], delimiter=',')"
   ]
  },
  {
   "cell_type": "markdown",
   "metadata": {},
   "source": [
    "# Alternative: compute full contacts with heavy parallelism"
   ]
  },
  {
   "cell_type": "code",
   "execution_count": null,
   "metadata": {},
   "outputs": [],
   "source": [
    "def calculate_contacts(polygon, points, date):\n",
    "    \n",
    "    _people = points[points.geometry.centroid.within(polygon.geometry.buffer(100))]\n",
    "#     print(len(_people))\n",
    "    data = {\n",
    "        'date': np.repeat(date, len(_people)),\n",
    "        'patient1': np.repeat(polygon['patient'], len(_people)),\n",
    "        'patient2': list(_people['patient'])\n",
    "    }\n",
    "    \n",
    "    exposure_df = pd.DataFrame(data=data, columns = [\"date\", \"patient1\", \"patient2\"])\n",
    "    return exposure_df\n",
    "\n",
    "def calculate_daily_contacts(people_proj, sim, load_from_csv=False):\n",
    "    \n",
    "    if load_from_csv:\n",
    "        return pd.read_csv(\"improved_daily_contacts.csv\")\n",
    "    \n",
    "    start = timer()\n",
    "\n",
    "    # calculate daily contacts for day 1 as they will be repeated for the other days\n",
    "    date = sim[\"dates\"][\"date\"][0]\n",
    "    daily_contacts = people_proj.swifter.apply(calculate_contacts, axis=1, args=[people_proj, date])\n",
    "\n",
    "    original_daily_contacts = pd.concat(list(daily_contacts), sort=False)\n",
    "    original_daily_contacts.reset_index(drop=True, inplace=True)\n",
    "\n",
    "    # calculate the table for all the dates\n",
    "    improved_daily_contacts = original_daily_contacts.copy()\n",
    "    for date in sim[\"dates\"][\"date\"]:\n",
    "        if len(original_daily_contacts[original_daily_contacts['date'] == date]) < 1:\n",
    "            new_df = original_daily_contacts.copy()\n",
    "            new_df['date'] = date\n",
    "            improved_daily_contacts = improved_daily_contacts.append(new_df)\n",
    "\n",
    "    improved_daily_contacts.reset_index(drop=True, inplace=True)\n",
    "\n",
    "    end = timer()\n",
    "    print(\"Compute time:\",end-start)\n",
    "    \n",
    "    return improved_daily_contacts\n",
    "\n",
    "full_daily_contacts = calculate_daily_contacts(large_people_df, sim_full, load_from_csv=False)\n",
    "sim_full[\"contacts\"] = full_daily_contacts\n",
    "sim_full[\"N_c\"] = contacts.calculate_Nc(sim_full)\n",
    "print(\"Average daily contacts: {}\".format(sim_full[\"N_c\"]))"
   ]
  },
  {
   "cell_type": "code",
   "execution_count": null,
   "metadata": {},
   "outputs": [],
   "source": [
    "print(full_daily_contacts)"
   ]
  },
  {
   "cell_type": "code",
   "execution_count": null,
   "metadata": {},
   "outputs": [],
   "source": [
    "sim_results = run_sim(sim_full, N_infected=0, infected = infected_ids)"
   ]
  },
  {
   "cell_type": "code",
   "execution_count": null,
   "metadata": {},
   "outputs": [],
   "source": []
  }
 ],
 "metadata": {
  "kernelspec": {
   "display_name": "Python 3",
   "language": "python",
   "name": "python3"
  },
  "language_info": {
   "codemirror_mode": {
    "name": "ipython",
    "version": 3
   },
   "file_extension": ".py",
   "mimetype": "text/x-python",
   "name": "python",
   "nbconvert_exporter": "python",
   "pygments_lexer": "ipython3",
   "version": "3.6.9"
  }
 },
 "nbformat": 4,
 "nbformat_minor": 4
}
