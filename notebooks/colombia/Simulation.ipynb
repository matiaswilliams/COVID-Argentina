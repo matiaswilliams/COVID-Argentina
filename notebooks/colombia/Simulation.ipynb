{
 "cells": [
  {
   "cell_type": "markdown",
   "metadata": {},
   "source": [
    "# SImulation notebook - Colombia data"
   ]
  },
  {
   "cell_type": "code",
   "execution_count": 14,
   "metadata": {},
   "outputs": [],
   "source": [
    "import sys\n",
    "import os\n",
    "sys.path.append(\"../..\")\n",
    "import model \n",
    "import geopandas as gpd\n",
    "import pandas as pd\n",
    "import numpy as np\n",
    "import scipy\n",
    "from model.sim import location, state, contacts\n",
    "from IPython.display import display\n",
    "from timeit import default_timer as timer"
   ]
  },
  {
   "cell_type": "code",
   "execution_count": 15,
   "metadata": {},
   "outputs": [],
   "source": [
    "crs = {'epsg:3857'}\n",
    "shp_path = '../../../shp' # Change to your local shape file directory"
   ]
  },
  {
   "cell_type": "code",
   "execution_count": 16,
   "metadata": {},
   "outputs": [
    {
     "data": {
      "text/plain": [
       "551559"
      ]
     },
     "execution_count": 16,
     "metadata": {},
     "output_type": "execute_result"
    }
   ],
   "source": [
    "file1 = gpd.read_file(os.path.join(shp_path,\"Barrios_info_DANE.shp\")) \n",
    "file1['SEXO_TOT_1'].sum()"
   ]
  },
  {
   "cell_type": "code",
   "execution_count": 17,
   "metadata": {},
   "outputs": [
    {
     "name": "stdout",
     "output_type": "stream",
     "text": [
      "0      3911\n",
      "1      2079\n",
      "2      2222\n",
      "3      5425\n",
      "4      2666\n",
      "       ... \n",
      "227     184\n",
      "228     418\n",
      "229    3000\n",
      "230       0\n",
      "231       0\n",
      "Name: SEXO_TOT_1, Length: 232, dtype: int64\n"
     ]
    }
   ],
   "source": [
    "print(file1['SEXO_TOT_1'])"
   ]
  },
  {
   "cell_type": "code",
   "execution_count": 18,
   "metadata": {},
   "outputs": [],
   "source": [
    "people = gpd.read_file(os.path.join(shp_path,\"Censo_personas_manzanas_2018.shp\"))"
   ]
  },
  {
   "cell_type": "code",
   "execution_count": 19,
   "metadata": {},
   "outputs": [
    {
     "data": {
      "text/plain": [
       "5964"
      ]
     },
     "execution_count": 19,
     "metadata": {},
     "output_type": "execute_result"
    }
   ],
   "source": [
    "len(people)"
   ]
  },
  {
   "cell_type": "code",
   "execution_count": 20,
   "metadata": {},
   "outputs": [
    {
     "data": {
      "text/plain": [
       "534786"
      ]
     },
     "execution_count": 20,
     "metadata": {},
     "output_type": "execute_result"
    }
   ],
   "source": [
    "people['SEXO_TOTAL'].sum()"
   ]
  },
  {
   "cell_type": "code",
   "execution_count": 21,
   "metadata": {},
   "outputs": [],
   "source": [
    "inhabitants = people['SEXO_TOTAL'].sum()"
   ]
  },
  {
   "cell_type": "code",
   "execution_count": 22,
   "metadata": {},
   "outputs": [
    {
     "data": {
      "text/plain": [
       "5964"
      ]
     },
     "execution_count": 22,
     "metadata": {},
     "output_type": "execute_result"
    }
   ],
   "source": [
    "len(people['SEXO_TOTAL'])"
   ]
  },
  {
   "cell_type": "code",
   "execution_count": 23,
   "metadata": {},
   "outputs": [],
   "source": [
    "# utils functions  \n",
    "\n",
    "def calculate_contacts(polygon, points, date):\n",
    "    _people = points[points.geometry.centroid.within(polygon.geometry.buffer(100))]\n",
    "    data = {\n",
    "        'date': np.repeat(date, len(_people)),\n",
    "        'patient1': np.repeat(polygon['patient'], len(_people)),\n",
    "        'patient2': list(_people['patient'])\n",
    "    }\n",
    "    \n",
    "    exposure_df = pd.DataFrame(data=data, columns = [\"date\",\"patient1\",\"patient2\"])\n",
    "    return exposure_df\n",
    "\n",
    "# def extrapolation(df):\n",
    "#     transformation_table = []\n",
    "#     for i, value in df.sort_values(\"patient\").iterrows():\n",
    "#         original_index = value['patient']\n",
    "#         new_index = 0\n",
    "#         step = value['SEXO_TOTAL']\n",
    "#         transformation_table[original_index] = [np.arange(new_index,new_index+step-1)]\n",
    "#         new_index = new_index + step\n",
    "#     return transformation_table"
   ]
  },
  {
   "cell_type": "code",
   "execution_count": 24,
   "metadata": {},
   "outputs": [],
   "source": [
    "def instantiate_sim(neigh_info_path, people_df, T=100, reindex = True): \n",
    "    sim = {\"map\":gpd.read_file(neigh_info_path)}\n",
    "    pop_per_neigh = sim[\"map\"]['SEXO_TOT_1']\n",
    "    N0 = len(people_df)\n",
    "    \n",
    "    if reindex:\n",
    "        people_df['patient'] = np.arange(len(people_df))\n",
    "    #N0 = people.SEXO_TOTAL.sum()\n",
    "    #people = people.reindex(people.index.repeat(people.SEXO_TOTAL))\n",
    "                \n",
    "    lat = people_df.centroid.y\n",
    "    lng = people_df.centroid.x\n",
    "\n",
    "    people_proj['calculated_centroid'] = people_proj.centroid\n",
    "\n",
    "    sim[\"location\"] = pd.DataFrame(\n",
    "    {\n",
    "        \"patient\": np.repeat(np.arange(N0), T),\n",
    "        \"date\": np.tile(np.arange(T), N0),\n",
    "        \"latitude\": np.repeat(lat, T),\n",
    "        \"longitude\": np.repeat(lng, T),\n",
    "        }\n",
    "    )\n",
    "\n",
    "#     people_points = people_df.centroid\n",
    "\n",
    "    distance_cutoff = 0.012\n",
    "    sim[\"patients\"] = pd.DataFrame({\"patient\": np.unique(sim[\"location\"][\"patient\"])})\n",
    "    sim[\"dates\"] = pd.DataFrame({\"date\": np.unique(sim[\"location\"][\"date\"])})\n",
    "    \n",
    "    return sim\n",
    "\n",
    "neigh_info_path = shp_path + \"/Barrios_info_DANE.shp\"  \n",
    "census_path = shp_path + \"/Censo_personas_manzanas_2018.shp\"\n",
    "people = gpd.read_file(census_path, index=None) \n",
    "people_proj = people.to_crs({\"init\": \"EPSG:3857\"})\n",
    "sim = instantiate_sim(neigh_info_path, people_proj)"
   ]
  },
  {
   "cell_type": "code",
   "execution_count": 28,
   "metadata": {},
   "outputs": [
    {
     "name": "stdout",
     "output_type": "stream",
     "text": [
      "Average daily contacts: 330.0335345405768\n"
     ]
    }
   ],
   "source": [
    "def calculate_daily_contacts(people_proj, sim, load_from_csv=True):\n",
    "    \n",
    "    if load_from_csv:\n",
    "        return pd.read_csv(\"improved_daily_contacts.csv\")\n",
    "    \n",
    "    start = timer()\n",
    "\n",
    "    # calculate daily contacts for day 1 as they will be repeated for the other days\n",
    "    date = sim[\"dates\"][\"date\"][0]\n",
    "    daily_contacts = people_proj.apply(calculate_contacts, axis=1, args=[people_proj, date])\n",
    "\n",
    "    original_daily_contacts = pd.concat(list(daily_contacts), sort=False)\n",
    "    original_daily_contacts.reset_index(drop=True, inplace=True)\n",
    "\n",
    "    # calculate the table for all the dates\n",
    "    improved_daily_contacts = original_daily_contacts.copy()\n",
    "    for date in sim[\"dates\"][\"date\"]:\n",
    "        if len(original_daily_contacts[original_daily_contacts['date'] == date]) < 1:\n",
    "            new_df = original_daily_contacts.copy()\n",
    "            new_df['date'] = date\n",
    "            improved_daily_contacts = improved_daily_contacts.append(new_df)\n",
    "\n",
    "    improved_daily_contacts.reset_index(drop=True, inplace=True)\n",
    "\n",
    "    end = timer()\n",
    "    print(\"Compute time:\",end-start)\n",
    "    \n",
    "    return improved_daily_contacts\n",
    "\n",
    "improved_daily_contacts = calculate_daily_contacts(people_proj, sim)\n",
    "sim[\"contacts\"] = improved_daily_contacts\n",
    "sim[\"N_c\"] = contacts.calculate_Nc(sim)\n",
    "print(\"Average daily contacts: {}\".format(sim[\"N_c\"]))"
   ]
  },
  {
   "cell_type": "code",
   "execution_count": 29,
   "metadata": {},
   "outputs": [],
   "source": [
    "save=False\n",
    "if save:   \n",
    "    improved_daily_contacts.to_csv(\"improved_daily_contacts.csv\")"
   ]
  },
  {
   "cell_type": "code",
   "execution_count": 88,
   "metadata": {},
   "outputs": [],
   "source": [
    "# Run sim\n",
    "def run_sim(sim, N_infected=15, infected=None):\n",
    "    sim[\"states\"], sim[\"tests\"] = state.simulate_states(sim, N_infected=N_infected, infected=infected)\n",
    "    sim[\"hospital\"] = state.get_first_occurrence(sim[\"states\"], 6)\n",
    "    sim[\"deaths\"] = state.get_first_occurrence(sim[\"states\"], 8)\n",
    "    return sim\n",
    "    \n",
    "# run_sim(sim)"
   ]
  },
  {
   "cell_type": "code",
   "execution_count": 124,
   "metadata": {},
   "outputs": [],
   "source": [
    "# gdf = gpd.GeoDataFrame(\n",
    "#     df,\n",
    "#     geometry=gpd.points_from_xy(\n",
    "#         df[\"longitude\"],\n",
    "#         df[\"latitude\"],\n",
    "#     ),\n",
    "#     crs={\"init\":\"EPSG:4326\"},\n",
    "# )\n",
    "\n",
    "# # 10 records\n",
    "# filtered_df\n",
    "\n",
    "# filtered_gdf = gpd.GeoDataFrame(\n",
    "#     filtered_df, \n",
    "#     geometry=gpd.points_from_xy(\n",
    "#         filtered_df[\"longitude\"],\n",
    "#         filtered_df[\"latitude\"],\n",
    "#     ),\n",
    "#     crs={\"init\":\"EPSG:4326\"},\n",
    "# )\n",
    "\n",
    "# # EPSG:3857 converts it to meters, correct?\n",
    "\n",
    "# gdf_proj = gdf.to_crs({\"init\": \"EPSG:3857\"})\n",
    "# filtered_gdf_proj = filtered_gdf.to_crs({\"init\": \"EPSG:3857\"})\n",
    "\n",
    "# # so 100 miles would be 160934 meters\n",
    "\n",
    "# x = filtered_gdf_proj.buffer(100).unary_union\n",
    "\n",
    "# neighbours = gdf_proj[\"geometry\"].intersection(x)"
   ]
  },
  {
   "cell_type": "markdown",
   "metadata": {},
   "source": [
    "# Simulation with 500k people from neighborhoods"
   ]
  },
  {
   "cell_type": "code",
   "execution_count": 30,
   "metadata": {
    "scrolled": true
   },
   "outputs": [
    {
     "name": "stdout",
     "output_type": "stream",
     "text": [
      "Final shape of people_df: (551560, 3)\n"
     ]
    }
   ],
   "source": [
    "# Build people_full dataframe containing census data, infected data + estimated people from neighborhood data\n",
    "\n",
    "\n",
    "def create_people_df_from_neighborhood_data(neighborhood_data, dummy_row):\n",
    "    people_df = dummy_row\n",
    "    people_df.patient = [0]\n",
    "    i=1\n",
    "    for idx, row in neighborhood_data.iterrows():\n",
    "        if not row[\"SEXO_TOT_1\"]:\n",
    "            continue\n",
    "#         print(\"row.geometry.centroid\",row.geometry.centroid)\n",
    "#         dummy_row.geometry = row.geometry\n",
    "        dummy_row[\"calculated_centroid\"] = row.geometry.centroid\n",
    "#         print(dummy_row.columns)\n",
    "        ppl_from_nb = [dummy_row]*row[\"SEXO_TOT_1\"]\n",
    "        ppl_from_nb = pd.concat(ppl_from_nb)\n",
    "        ppl_from_nb.patient = np.arange(i, i+len(ppl_from_nb))\n",
    "        i+=len(ppl_from_nb)\n",
    "        people_df = people_df.append(ppl_from_nb, ignore_index=True)        \n",
    "        \n",
    "    print(\"Final shape of people_df:\",people_df.shape)\n",
    "    return people_df\n",
    "\n",
    "\n",
    "sim[\"map\"][\"calculated_centroid\"] = sim[\"map\"].centroid\n",
    "large_people_df = create_people_df_from_neighborhood_data(sim[\"map\"], people_proj[[\"geometry\",\"patient\"]].iloc[:1])"
   ]
  },
  {
   "cell_type": "code",
   "execution_count": 32,
   "metadata": {},
   "outputs": [
    {
     "name": "stdout",
     "output_type": "stream",
     "text": [
      "Index(['geometry', 'patient', 'calculated_centroid'], dtype='object') (551560, 3)\n"
     ]
    }
   ],
   "source": [
    "print(large_people_df.columns, large_people_df.shape)"
   ]
  },
  {
   "cell_type": "markdown",
   "metadata": {},
   "source": [
    "# Extrapolate contacts"
   ]
  },
  {
   "cell_type": "code",
   "execution_count": 108,
   "metadata": {},
   "outputs": [],
   "source": [
    "from shapely.ops import nearest_points\n",
    "\n",
    "# def nearest(row, geom_union, df1, df2, geom1_col='geometry', geom2_col='geometry', src_column=None):\n",
    "#     \"\"\"Find the nearest point and return the corresponding value from specified column.\"\"\"\n",
    "#     # Find the geometry that is closest\n",
    "#     nearest = df2[geom2_col] == nearest_points(row[geom1_col], geom_union)[1]\n",
    "#     # Get the corresponding value from df2 (matching is based on the geometry)\n",
    "#     value = df2[nearest][src_column].get_values()[0]\n",
    "#     return value\n",
    "\n",
    "def nearest(point, people_df):\n",
    "    people_locs = people_df.geometry.centroid.unary_union\n",
    "    \n",
    "#     print(\"Trying to find nearest point to %s\" % point)\n",
    "#     print(\"Candidates are:\", people_locs[:5], \"and more (%d total)\" % len(people_locs)) # \"with ids:\", people_df[\"patient\"][:5]\n",
    "    \n",
    "    # find the nearest person for which we have data\n",
    "#     print(\"people_df.geometry.centroid\", people_df.geometry.centroid)\n",
    "#     print(\"nearest_points(point, people_locs)\", nearest_points(point, people_locs))\n",
    "    nearest = people_df.geometry.centroid == nearest_points(point, people_locs)[1]\n",
    "#     print(nearest)\n",
    "    \n",
    "    return people_df[nearest]\n",
    "\n",
    "def calculate_contacts(polygon, points, date):\n",
    "    _people = points[points.geometry.centroid.within(polygon.geometry.buffer(100))]\n",
    "    data = {\n",
    "        'date': np.repeat(date, len(_people)),\n",
    "        'patient1': np.repeat(polygon['patient'], len(_people)),\n",
    "        'patient2': list(_people['patient'])\n",
    "    }\n",
    "    \n",
    "    exposure_df = pd.DataFrame(data=data, columns = [\"date\", \"patient1\", \"patient2\"])\n",
    "    return exposure_df\n",
    "\n",
    "def contacts_from_closest_person(row, people, contacts, this_id):\n",
    "    print(\"\\nGetting contacts for person\", row[\"patient\"])\n",
    "    nearest_person = nearest(row.calculated_centroid, people)\n",
    "    contact_df = contacts[contacts['patient1']==nearest_person[\"patient\"].iloc[0]]\n",
    "    contact_df.patient1 = row[\"patient\"]\n",
    "#     print(contact_df)\n",
    "#     print(\"Found nearest person. ID: %s. Centroid: %s. Barrio: %s. Contacts: %d\" % (nearest_person[\"patient\"], nearest_person.geometry.centroid,\n",
    "#                                                                                    nearest_person.BARRIO, len(contact_df))) \n",
    "    \n",
    "    return contact_df\n",
    "\n",
    "def contacts_from_neigh(row, people, contacts):\n",
    "    \n",
    "    contacts_for_this_id = neigh2contacts[row[\"\"]]\n",
    "    return contacts\n",
    "\n",
    "cnt=0\n",
    "def dummy_contacts(row, people, contacts):\n",
    "    contact_df = contacts.iloc[:30]\n",
    "    contact_df.patient1 = row[\"patient\"]\n",
    "    return contact_df\n",
    "    \n",
    "def extrapolate_contacts(contacts, people, full_people):\n",
    "    print(\"Extrapolating contacts for full dataframe of length %d from small dataframe of length %d\" % (len(full_people), len(people)))\n",
    "    extrapolated_contacts = full_people.apply(dummy_contacts, axis=1, args=[people, contacts])\n",
    "    return extrapolated_contacts\n",
    "    "
   ]
  },
  {
   "cell_type": "code",
   "execution_count": 109,
   "metadata": {},
   "outputs": [
    {
     "name": "stdout",
     "output_type": "stream",
     "text": [
      "Index(['Unnamed: 0', 'date', 'patient1', 'patient2'], dtype='object')\n"
     ]
    }
   ],
   "source": [
    "print(improved_daily_contacts.columns)"
   ]
  },
  {
   "cell_type": "code",
   "execution_count": 110,
   "metadata": {},
   "outputs": [
    {
     "name": "stdout",
     "output_type": "stream",
     "text": [
      "Extrapolating contacts for full dataframe of length 551560 from small dataframe of length 5964\n"
     ]
    }
   ],
   "source": [
    "extrapolated_contacts = extrapolate_contacts(improved_daily_contacts, people_proj, large_people_df)"
   ]
  },
  {
   "cell_type": "code",
   "execution_count": 112,
   "metadata": {},
   "outputs": [],
   "source": [
    "save=True\n",
    "if save:\n",
    "    extrapolated_contacts.to_csv(\"extrapolated_contacts.csv\")"
   ]
  },
  {
   "cell_type": "markdown",
   "metadata": {},
   "source": [
    "# Get list of infected"
   ]
  },
  {
   "cell_type": "code",
   "execution_count": 113,
   "metadata": {},
   "outputs": [
    {
     "data": {
      "text/plain": [
       "({'map':       Id              BARRIO           area        COMUNA  \\\n",
       "  0      0        Las Gaviotas  103710.737439  Centro Norte   \n",
       "  1      1        Los Balkanes   58750.503679  Centro Norte   \n",
       "  2      2     Las Gaviotas II   80384.347238  Centro Norte   \n",
       "  3      3    Villa Del Carmen  133642.372386  Centro Norte   \n",
       "  4      4       Villa Cecilia   73397.793457  Centro Norte   \n",
       "  ..   ...                 ...            ...           ...   \n",
       "  227  232  Urb. DoÃ±a Manuela   86397.705219           Sur   \n",
       "  228  233      Matha  Gisella   17258.161905           Sur   \n",
       "  229  234         Urb. El Rio  113650.306502      Oriental   \n",
       "  230  199    Rigoberta Menchu   11870.886466      Oriental   \n",
       "  231  212      Linda Maria II   12053.239505           Sur   \n",
       "  \n",
       "                                     GlobalID  CreationDa           Creator  \\\n",
       "  0    {DA37628A-E472-4563-A5D9-BAFBCE2FF0C5}  2020-05-11  alcaldia_soledad   \n",
       "  1    {DA43EBEF-6C64-42D0-9C20-DD7BFC415CFD}  2020-05-11  alcaldia_soledad   \n",
       "  2    {5E863F96-61BB-47DC-BB8C-C93613F2F7B8}  2020-05-11  alcaldia_soledad   \n",
       "  3    {35474DEC-962B-4E9A-98CA-26ECA152B775}  2020-05-11  alcaldia_soledad   \n",
       "  4    {B0C1AB1E-49C7-4FE2-A458-51E1B9E75D93}  2020-05-11  alcaldia_soledad   \n",
       "  ..                                      ...         ...               ...   \n",
       "  227  {ADBAD27D-7E6F-444D-B7A0-6AFCFDF8CC2F}  2020-05-11  alcaldia_soledad   \n",
       "  228  {89E33C14-9388-482D-ACDB-2BEA3012B914}  2020-05-11  alcaldia_soledad   \n",
       "  229  {135C8EB0-5CD7-4DF4-A219-B2E6E4DD8E52}  2020-05-11  alcaldia_soledad   \n",
       "  230  {5910D49F-1C85-46B8-BD22-E13E05D2E601}  2020-05-11  alcaldia_soledad   \n",
       "  231  {72A992CF-2D5B-4699-82DE-ABEB57C83237}  2020-05-11  alcaldia_soledad   \n",
       "  \n",
       "         EditDate            Editor  SEXO_M  ...  EDAD_30_40  EDAD_40_50  \\\n",
       "  0    2020-05-11  alcaldia_soledad       0  ...         634         450   \n",
       "  1    2020-05-11  alcaldia_soledad       0  ...         330         199   \n",
       "  2    2020-05-11  alcaldia_soledad       0  ...         396         214   \n",
       "  3    2020-05-11  alcaldia_soledad       0  ...         926         547   \n",
       "  4    2020-05-11  alcaldia_soledad       0  ...         420         287   \n",
       "  ..          ...               ...     ...  ...         ...         ...   \n",
       "  227  2020-05-11  alcaldia_soledad       0  ...          29          19   \n",
       "  228  2020-05-11  alcaldia_soledad       0  ...          59          64   \n",
       "  229  2020-05-11  alcaldia_soledad       0  ...         457         423   \n",
       "  230  2020-05-11  alcaldia_soledad       0  ...           0           0   \n",
       "  231  2020-05-11  alcaldia_soledad       0  ...           0           0   \n",
       "  \n",
       "       EDAD_50_60  EDAD_60_70  EDAD_70_80  EDAD_80_   SHAPE_Leng     SHAPE_Area  \\\n",
       "  0           498         253          82        55  1402.576086  108248.354443   \n",
       "  1           299         137          44        21  1351.145382   61321.163119   \n",
       "  2           319         130          46        22  1287.563635   83900.887961   \n",
       "  3           562         428         149        54  2044.288018  139492.305424   \n",
       "  4           294         211          67        40  1511.884412   76611.224183   \n",
       "  ..          ...         ...         ...       ...          ...            ...   \n",
       "  227          16           3           3         1  1209.594246   90159.860501   \n",
       "  228          40          16           6         3   962.446741   18009.666157   \n",
       "  229         273         297         193        60  1545.508143  118628.092480   \n",
       "  230           0           0           0         0  1183.124958   12388.677412   \n",
       "  231           0           0           0         0   672.298033   12579.127585   \n",
       "  \n",
       "                                                geometry  \\\n",
       "  0    POLYGON ((-8326087.177 1223482.694, -8326093.8...   \n",
       "  1    POLYGON ((-8326179.153 1223953.715, -8326178.1...   \n",
       "  2    POLYGON ((-8326332.514 1223814.165, -8326332.0...   \n",
       "  3    POLYGON ((-8325989.186 1224288.782, -8325980.7...   \n",
       "  4    POLYGON ((-8325667.761 1224302.529, -8325662.0...   \n",
       "  ..                                                 ...   \n",
       "  227  POLYGON ((-8325635.418 1220109.041, -8325635.8...   \n",
       "  228  POLYGON ((-8325367.587 1220198.725, -8325367.4...   \n",
       "  229  POLYGON ((-8323758.273 1224199.479, -8323758.7...   \n",
       "  230  POLYGON ((-8322782.784 1221713.023, -8322779.2...   \n",
       "  231  POLYGON ((-8323985.794 1221683.676, -8323984.0...   \n",
       "  \n",
       "                    calculated_centroid  \n",
       "  0    POINT (-8325998.515 1223710.461)  \n",
       "  1    POINT (-8326211.267 1223757.822)  \n",
       "  2    POINT (-8326333.243 1223611.737)  \n",
       "  3    POINT (-8325988.984 1224043.753)  \n",
       "  4    POINT (-8325754.797 1224174.296)  \n",
       "  ..                                ...  \n",
       "  227  POINT (-8325600.262 1220309.373)  \n",
       "  228  POINT (-8325446.412 1220312.789)  \n",
       "  229  POINT (-8323820.850 1224471.663)  \n",
       "  230  POINT (-8322850.553 1221518.762)  \n",
       "  231  POINT (-8324031.714 1221713.203)  \n",
       "  \n",
       "  [232 rows x 147 columns],\n",
       "  'location':       patient  date      latitude     longitude\n",
       "  0           0     0  1.220718e+06 -8.323061e+06\n",
       "  0           0     1  1.220718e+06 -8.323061e+06\n",
       "  0           0     2  1.220718e+06 -8.323061e+06\n",
       "  0           0     3  1.220718e+06 -8.323061e+06\n",
       "  0           0     4  1.220718e+06 -8.323061e+06\n",
       "  ...       ...   ...           ...           ...\n",
       "  5963     5963    95  1.222317e+06 -8.325669e+06\n",
       "  5963     5963    96  1.222317e+06 -8.325669e+06\n",
       "  5963     5963    97  1.222317e+06 -8.325669e+06\n",
       "  5963     5963    98  1.222317e+06 -8.325669e+06\n",
       "  5963     5963    99  1.222317e+06 -8.325669e+06\n",
       "  \n",
       "  [596400 rows x 4 columns],\n",
       "  'patients':       patient\n",
       "  0           0\n",
       "  1           1\n",
       "  2           2\n",
       "  3           3\n",
       "  4           4\n",
       "  ...       ...\n",
       "  5959     5959\n",
       "  5960     5960\n",
       "  5961     5961\n",
       "  5962     5962\n",
       "  5963     5963\n",
       "  \n",
       "  [5964 rows x 1 columns],\n",
       "  'dates':     date\n",
       "  0      0\n",
       "  1      1\n",
       "  2      2\n",
       "  3      3\n",
       "  4      4\n",
       "  ..   ...\n",
       "  95    95\n",
       "  96    96\n",
       "  97    97\n",
       "  98    98\n",
       "  99    99\n",
       "  \n",
       "  [100 rows x 1 columns],\n",
       "  'contacts':           Unnamed: 0  date  patient1  patient2\n",
       "  0                  0     0    551559         0\n",
       "  1                  1     0    551559        15\n",
       "  2                  2     0    551559      1479\n",
       "  3                  3     0    551559      1480\n",
       "  4                  4     0    551559         1\n",
       "  ...              ...   ...       ...       ...\n",
       "  98415995    98415995   999      5963      5959\n",
       "  98415996    98415996   999      5963      5960\n",
       "  98415997    98415997   999      5963      5961\n",
       "  98415998    98415998   999      5963      5962\n",
       "  98415999    98415999   999      5963      5963\n",
       "  \n",
       "  [98416000 rows x 4 columns],\n",
       "  'N_c': 330.0335345405768},\n",
       " array([  0,   1,   2,   3,   4,   5,   6,   7,   8,   9,  10,  11,  12,\n",
       "         13,  14,  15,  16,  17,  18,  19,  20,  21,  22,  23,  24,  25,\n",
       "         26,  27,  28,  29,  30,  31,  32,  33,  34,  35,  36,  37,  38,\n",
       "         39,  40,  41,  42,  43,  44,  45,  46,  47,  48,  49,  50,  51,\n",
       "         52,  53,  54,  55,  56,  57,  58,  59,  60,  61,  62,  63,  64,\n",
       "         65,  66,  67,  68,  69,  70,  71,  72,  73,  74,  75,  76,  77,\n",
       "         78,  79,  80,  81,  82,  83,  84,  85,  86,  87,  88,  89,  90,\n",
       "         91,  92,  93,  94,  95,  96,  97,  98,  99, 100, 101, 102, 103,\n",
       "        104, 105, 106, 107, 108, 109, 110, 111, 112, 113, 114, 115, 116,\n",
       "        117, 118, 119, 120, 121, 122, 123, 124, 125, 126, 127, 128, 129,\n",
       "        130, 131, 132, 133, 134, 135, 136, 137, 138, 139, 140, 141, 142,\n",
       "        143, 144, 145, 146, 147, 148, 149, 150, 151, 152, 153, 154, 155,\n",
       "        156, 157, 158, 159, 160, 161, 162, 163, 164, 165, 166, 167, 168,\n",
       "        169, 170, 171, 172, 173, 174, 175, 176, 177, 178, 179, 180, 181,\n",
       "        182, 183, 184, 185, 186, 187, 188, 189, 190, 191, 192, 193, 194,\n",
       "        195, 196, 197, 198, 199, 200, 201, 202, 203, 204, 205, 206, 207,\n",
       "        208, 209, 210, 211, 212, 213, 214, 215, 216, 217, 218, 219, 220,\n",
       "        221, 222, 223, 224, 225, 226, 227, 228, 229, 230, 231, 232, 233,\n",
       "        234, 235, 236, 237, 238, 239, 240, 241, 242, 243, 244, 245, 246,\n",
       "        247, 248, 249, 250, 251, 252, 253, 254, 255, 256, 257, 258, 259,\n",
       "        260, 261, 262, 263, 264, 265, 266, 267, 268, 269, 270, 271, 272,\n",
       "        273, 274, 275, 276, 277, 278, 279, 280, 281, 282, 283, 284, 285,\n",
       "        286, 287, 288, 289, 290, 291, 292, 293, 294, 295, 296, 297, 298,\n",
       "        299, 300, 301, 302, 303, 304, 305, 306, 307, 308, 309, 310, 311,\n",
       "        312, 313, 314, 315, 316, 317, 318, 319, 320, 321, 322, 323, 324,\n",
       "        325, 326, 327, 328, 329, 330, 331, 332, 333, 334, 335, 336, 337,\n",
       "        338, 339, 340, 341, 342, 343, 344, 345, 346, 347, 348, 349, 350,\n",
       "        351, 352, 353, 354, 355, 356, 357, 358, 359, 360, 361, 362, 363,\n",
       "        364, 365, 366, 367, 368, 369, 370, 371, 372, 373, 374, 375, 376,\n",
       "        377, 378, 379, 380, 381, 382, 383, 384, 385, 386, 387, 388, 389,\n",
       "        390, 391, 392, 393, 394, 395, 396, 397, 398, 399, 400, 401, 402,\n",
       "        403, 404, 405, 406, 407, 408, 409, 410, 411, 412, 413, 414, 415,\n",
       "        416, 417, 418, 419, 420, 421, 422, 423, 424, 425, 426, 427, 428,\n",
       "        429, 430, 431, 432, 433, 434, 435, 436, 437, 438, 439, 440, 441,\n",
       "        442, 443, 444, 445, 446, 447, 448, 449, 450, 451, 452, 453, 454,\n",
       "        455]))"
      ]
     },
     "execution_count": 113,
     "metadata": {},
     "output_type": "execute_result"
    }
   ],
   "source": [
    "\n",
    "def include_infected(sim, path_to_infected_file=os.path.join(shp_path,\"POSITIVOS_COVID_19.shp\"), T=90, start_id=0):\n",
    "    posi = gpd.read_file(path_to_infected_file)\n",
    "\n",
    "    inf_active = posi[posi[\"estado_ate\"]==1]\n",
    "    latitudes = inf_active.geometry.centroid.y\n",
    "    longitudes = inf_active.geometry.centroid.x\n",
    "    infected_ids = np.arange(start_id, len(inf_active)+start_id)\n",
    "    infected_locations = pd.DataFrame({\"patient\": np.tile(infected_ids, T), \n",
    "                                       \"date\": np.tile(np.arange(T), len(inf_active)), \n",
    "                                       \"latitude\": np.repeat(latitudes, T), \n",
    "                                       \"longitude\": np.repeat(longitudes, T)})\n",
    "#     print(infected_locations)\n",
    "    sim[\"location\"].append(infected_locations)\n",
    "    return sim, infected_ids\n",
    "    \n",
    "include_infected(sim)"
   ]
  },
  {
   "cell_type": "markdown",
   "metadata": {},
   "source": [
    "# Run full simulation"
   ]
  },
  {
   "cell_type": "code",
   "execution_count": 119,
   "metadata": {},
   "outputs": [
    {
     "ename": "AttributeError",
     "evalue": "'DataFrame' object has no attribute 'calculate_Nc'",
     "output_type": "error",
     "traceback": [
      "\u001b[1;31m---------------------------------------------------------------------------\u001b[0m",
      "\u001b[1;31mAttributeError\u001b[0m                            Traceback (most recent call last)",
      "\u001b[1;32m<ipython-input-119-145dbd58c536>\u001b[0m in \u001b[0;36m<module>\u001b[1;34m\u001b[0m\n\u001b[0;32m      3\u001b[0m \u001b[0msim_full\u001b[0m\u001b[1;33m,\u001b[0m \u001b[0minfected_ids\u001b[0m \u001b[1;33m=\u001b[0m \u001b[0minclude_infected\u001b[0m\u001b[1;33m(\u001b[0m\u001b[0msim\u001b[0m\u001b[1;33m,\u001b[0m \u001b[0mT\u001b[0m\u001b[1;33m=\u001b[0m\u001b[0mT\u001b[0m\u001b[1;33m,\u001b[0m \u001b[0mstart_id\u001b[0m\u001b[1;33m=\u001b[0m\u001b[0mlen\u001b[0m\u001b[1;33m(\u001b[0m\u001b[0mlarge_people_df\u001b[0m\u001b[1;33m)\u001b[0m\u001b[1;33m)\u001b[0m\u001b[1;33m\u001b[0m\u001b[1;33m\u001b[0m\u001b[0m\n\u001b[0;32m      4\u001b[0m \u001b[0msim_full\u001b[0m\u001b[1;33m[\u001b[0m\u001b[1;34m\"contacts\"\u001b[0m\u001b[1;33m]\u001b[0m \u001b[1;33m=\u001b[0m \u001b[0mextrapolated_contacts\u001b[0m\u001b[1;33m\u001b[0m\u001b[1;33m\u001b[0m\u001b[0m\n\u001b[1;32m----> 5\u001b[1;33m \u001b[0msim_full\u001b[0m\u001b[1;33m[\u001b[0m\u001b[1;34m\"N_c\"\u001b[0m\u001b[1;33m]\u001b[0m \u001b[1;33m=\u001b[0m \u001b[0mpd\u001b[0m\u001b[1;33m.\u001b[0m\u001b[0mDataFrame\u001b[0m\u001b[1;33m(\u001b[0m\u001b[0mextrapolated_contacts\u001b[0m\u001b[1;33m)\u001b[0m\u001b[1;33m.\u001b[0m\u001b[0mcalculate_Nc\u001b[0m\u001b[1;33m(\u001b[0m\u001b[0msim_full\u001b[0m\u001b[1;33m)\u001b[0m\u001b[1;33m\u001b[0m\u001b[1;33m\u001b[0m\u001b[0m\n\u001b[0m\u001b[0;32m      6\u001b[0m \u001b[0mprint\u001b[0m\u001b[1;33m(\u001b[0m\u001b[1;34m\"Average daily contacts for full df: {}\"\u001b[0m\u001b[1;33m.\u001b[0m\u001b[0mformat\u001b[0m\u001b[1;33m(\u001b[0m\u001b[0msim_full\u001b[0m\u001b[1;33m[\u001b[0m\u001b[1;34m\"N_c\"\u001b[0m\u001b[1;33m]\u001b[0m\u001b[1;33m)\u001b[0m\u001b[1;33m)\u001b[0m\u001b[1;33m\u001b[0m\u001b[1;33m\u001b[0m\u001b[0m\n\u001b[0;32m      7\u001b[0m \u001b[0msim_results\u001b[0m \u001b[1;33m=\u001b[0m \u001b[0mrun_sim\u001b[0m\u001b[1;33m(\u001b[0m\u001b[0msim_full\u001b[0m\u001b[1;33m,\u001b[0m \u001b[0mN_infected\u001b[0m\u001b[1;33m=\u001b[0m\u001b[1;36m0\u001b[0m\u001b[1;33m,\u001b[0m \u001b[0minfected\u001b[0m \u001b[1;33m=\u001b[0m \u001b[0minfected_ids\u001b[0m\u001b[1;33m)\u001b[0m\u001b[1;33m\u001b[0m\u001b[1;33m\u001b[0m\u001b[0m\n",
      "\u001b[1;32mC:\\ProgramData\\Anaconda3\\envs\\py36\\lib\\site-packages\\pandas\\core\\generic.py\u001b[0m in \u001b[0;36m__getattr__\u001b[1;34m(self, name)\u001b[0m\n\u001b[0;32m   5272\u001b[0m             \u001b[1;32mif\u001b[0m \u001b[0mself\u001b[0m\u001b[1;33m.\u001b[0m\u001b[0m_info_axis\u001b[0m\u001b[1;33m.\u001b[0m\u001b[0m_can_hold_identifiers_and_holds_name\u001b[0m\u001b[1;33m(\u001b[0m\u001b[0mname\u001b[0m\u001b[1;33m)\u001b[0m\u001b[1;33m:\u001b[0m\u001b[1;33m\u001b[0m\u001b[1;33m\u001b[0m\u001b[0m\n\u001b[0;32m   5273\u001b[0m                 \u001b[1;32mreturn\u001b[0m \u001b[0mself\u001b[0m\u001b[1;33m[\u001b[0m\u001b[0mname\u001b[0m\u001b[1;33m]\u001b[0m\u001b[1;33m\u001b[0m\u001b[1;33m\u001b[0m\u001b[0m\n\u001b[1;32m-> 5274\u001b[1;33m             \u001b[1;32mreturn\u001b[0m \u001b[0mobject\u001b[0m\u001b[1;33m.\u001b[0m\u001b[0m__getattribute__\u001b[0m\u001b[1;33m(\u001b[0m\u001b[0mself\u001b[0m\u001b[1;33m,\u001b[0m \u001b[0mname\u001b[0m\u001b[1;33m)\u001b[0m\u001b[1;33m\u001b[0m\u001b[1;33m\u001b[0m\u001b[0m\n\u001b[0m\u001b[0;32m   5275\u001b[0m \u001b[1;33m\u001b[0m\u001b[0m\n\u001b[0;32m   5276\u001b[0m     \u001b[1;32mdef\u001b[0m \u001b[0m__setattr__\u001b[0m\u001b[1;33m(\u001b[0m\u001b[0mself\u001b[0m\u001b[1;33m,\u001b[0m \u001b[0mname\u001b[0m\u001b[1;33m:\u001b[0m \u001b[0mstr\u001b[0m\u001b[1;33m,\u001b[0m \u001b[0mvalue\u001b[0m\u001b[1;33m)\u001b[0m \u001b[1;33m->\u001b[0m \u001b[1;32mNone\u001b[0m\u001b[1;33m:\u001b[0m\u001b[1;33m\u001b[0m\u001b[1;33m\u001b[0m\u001b[0m\n",
      "\u001b[1;31mAttributeError\u001b[0m: 'DataFrame' object has no attribute 'calculate_Nc'"
     ]
    }
   ],
   "source": [
    "T=90\n",
    "sim_full = instantiate_sim(neigh_info_path, large_people_df, T=T, reindex=True)\n",
    "sim_full, infected_ids = include_infected(sim, T=T, start_id=len(large_people_df))\n",
    "sim_full[\"contacts\"] = extrapolated_contacts\n",
    "sim_full[\"N_c\"] = pd.DataFrame(extrapolated_contacts).calculate_Nc(sim_full)\n",
    "print(\"Average daily contacts for full df: {}\".format(sim_full[\"N_c\"]))\n",
    "sim_results = run_sim(sim_full, N_infected=0, infected = infected_ids)\n",
    "with open(\"sim_results_full.json\", \"w+\") as f:\n",
    "    json.dump(sim_results, f)"
   ]
  },
  {
   "cell_type": "code",
   "execution_count": null,
   "metadata": {},
   "outputs": [],
   "source": []
  }
 ],
 "metadata": {
  "kernelspec": {
   "display_name": "Python 3",
   "language": "python",
   "name": "python3"
  },
  "language_info": {
   "codemirror_mode": {
    "name": "ipython",
    "version": 3
   },
   "file_extension": ".py",
   "mimetype": "text/x-python",
   "name": "python",
   "nbconvert_exporter": "python",
   "pygments_lexer": "ipython3",
   "version": "3.6.8"
  }
 },
 "nbformat": 4,
 "nbformat_minor": 4
}
